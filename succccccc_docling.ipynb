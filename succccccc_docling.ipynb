{
  "nbformat": 4,
  "nbformat_minor": 0,
  "metadata": {
    "colab": {
      "provenance": []
    },
    "kernelspec": {
      "name": "python3",
      "display_name": "Python 3"
    },
    "language_info": {
      "name": "python"
    }
  },
  "cells": [
    {
      "cell_type": "code",
      "execution_count": null,
      "metadata": {
        "id": "mTJKBjwje0DK"
      },
      "outputs": [],
      "source": []
    },
    {
      "cell_type": "code",
      "source": [],
      "metadata": {
        "id": "-ps9JpcVe5Tl"
      },
      "execution_count": null,
      "outputs": []
    },
    {
      "cell_type": "code",
      "source": [],
      "metadata": {
        "id": "F0dyKjIZe5Ws"
      },
      "execution_count": null,
      "outputs": []
    },
    {
      "cell_type": "code",
      "source": [
        "!pip install docling"
      ],
      "metadata": {
        "colab": {
          "base_uri": "https://localhost:8080/"
        },
        "id": "y1clF0vBe5Zb",
        "outputId": "8105c958-21f2-4495-d9c0-154565e22b2b"
      },
      "execution_count": 1,
      "outputs": [
        {
          "output_type": "stream",
          "name": "stdout",
          "text": [
            "Collecting docling\n",
            "  Downloading docling-2.31.0-py3-none-any.whl.metadata (10 kB)\n",
            "Requirement already satisfied: beautifulsoup4<5.0.0,>=4.12.3 in /usr/local/lib/python3.11/dist-packages (from docling) (4.13.4)\n",
            "Requirement already satisfied: certifi>=2024.7.4 in /usr/local/lib/python3.11/dist-packages (from docling) (2025.4.26)\n",
            "Collecting docling-core<3.0.0,>=2.26.0 (from docling-core[chunking]<3.0.0,>=2.26.0->docling)\n",
            "  Downloading docling_core-2.30.0-py3-none-any.whl.metadata (6.0 kB)\n",
            "Collecting docling-ibm-models<4.0.0,>=3.4.0 (from docling)\n",
            "  Downloading docling_ibm_models-3.4.3-py3-none-any.whl.metadata (7.6 kB)\n",
            "Collecting docling-parse<5.0.0,>=4.0.0 (from docling)\n",
            "  Downloading docling_parse-4.0.1-cp311-cp311-manylinux_2_17_x86_64.manylinux2014_x86_64.whl.metadata (9.6 kB)\n",
            "Collecting easyocr<2.0,>=1.7 (from docling)\n",
            "  Downloading easyocr-1.7.2-py3-none-any.whl.metadata (10 kB)\n",
            "Collecting filetype<2.0.0,>=1.2.0 (from docling)\n",
            "  Downloading filetype-1.2.0-py2.py3-none-any.whl.metadata (6.5 kB)\n",
            "Requirement already satisfied: huggingface_hub<1,>=0.23 in /usr/local/lib/python3.11/dist-packages (from docling) (0.30.2)\n",
            "Requirement already satisfied: lxml<6.0.0,>=4.0.0 in /usr/local/lib/python3.11/dist-packages (from docling) (5.4.0)\n",
            "Collecting marko<3.0.0,>=2.1.2 (from docling)\n",
            "  Downloading marko-2.1.3-py3-none-any.whl.metadata (4.5 kB)\n",
            "Requirement already satisfied: openpyxl<4.0.0,>=3.1.5 in /usr/local/lib/python3.11/dist-packages (from docling) (3.1.5)\n",
            "Requirement already satisfied: pandas<3.0.0,>=2.1.4 in /usr/local/lib/python3.11/dist-packages (from docling) (2.2.2)\n",
            "Requirement already satisfied: pillow<12.0.0,>=10.0.0 in /usr/local/lib/python3.11/dist-packages (from docling) (11.2.1)\n",
            "Requirement already satisfied: pluggy<2.0.0,>=1.0.0 in /usr/local/lib/python3.11/dist-packages (from docling) (1.5.0)\n",
            "Requirement already satisfied: pydantic<3.0.0,>=2.0.0 in /usr/local/lib/python3.11/dist-packages (from docling) (2.11.4)\n",
            "Collecting pydantic-settings<3.0.0,>=2.3.0 (from docling)\n",
            "  Downloading pydantic_settings-2.9.1-py3-none-any.whl.metadata (3.8 kB)\n",
            "Collecting pylatexenc<3.0,>=2.10 (from docling)\n",
            "  Downloading pylatexenc-2.10.tar.gz (162 kB)\n",
            "\u001b[2K     \u001b[90m━━━━━━━━━━━━━━━━━━━━━━━━━━━━━━━━━━━━━━━\u001b[0m \u001b[32m162.6/162.6 kB\u001b[0m \u001b[31m6.3 MB/s\u001b[0m eta \u001b[36m0:00:00\u001b[0m\n",
            "\u001b[?25h  Preparing metadata (setup.py) ... \u001b[?25l\u001b[?25hdone\n",
            "Collecting pypdfium2<5.0.0,>=4.30.0 (from docling)\n",
            "  Downloading pypdfium2-4.30.1-py3-none-manylinux_2_17_x86_64.manylinux2014_x86_64.whl.metadata (48 kB)\n",
            "\u001b[2K     \u001b[90m━━━━━━━━━━━━━━━━━━━━━━━━━━━━━━━━━━━━━━━━\u001b[0m \u001b[32m48.2/48.2 kB\u001b[0m \u001b[31m1.8 MB/s\u001b[0m eta \u001b[36m0:00:00\u001b[0m\n",
            "\u001b[?25hCollecting python-docx<2.0.0,>=1.1.2 (from docling)\n",
            "  Downloading python_docx-1.1.2-py3-none-any.whl.metadata (2.0 kB)\n",
            "Collecting python-pptx<2.0.0,>=1.0.2 (from docling)\n",
            "  Downloading python_pptx-1.0.2-py3-none-any.whl.metadata (2.5 kB)\n",
            "Requirement already satisfied: requests<3.0.0,>=2.32.2 in /usr/local/lib/python3.11/dist-packages (from docling) (2.32.3)\n",
            "Collecting rtree<2.0.0,>=1.3.0 (from docling)\n",
            "  Downloading rtree-1.4.0-py3-none-manylinux2014_x86_64.manylinux_2_17_x86_64.whl.metadata (2.1 kB)\n",
            "Requirement already satisfied: scipy<2.0.0,>=1.6.0 in /usr/local/lib/python3.11/dist-packages (from docling) (1.15.2)\n",
            "Requirement already satisfied: tqdm<5.0.0,>=4.65.0 in /usr/local/lib/python3.11/dist-packages (from docling) (4.67.1)\n",
            "Requirement already satisfied: typer<0.16.0,>=0.12.5 in /usr/local/lib/python3.11/dist-packages (from docling) (0.15.3)\n",
            "Requirement already satisfied: soupsieve>1.2 in /usr/local/lib/python3.11/dist-packages (from beautifulsoup4<5.0.0,>=4.12.3->docling) (2.7)\n",
            "Requirement already satisfied: typing-extensions>=4.0.0 in /usr/local/lib/python3.11/dist-packages (from beautifulsoup4<5.0.0,>=4.12.3->docling) (4.13.2)\n",
            "Collecting jsonref<2.0.0,>=1.1.0 (from docling-core<3.0.0,>=2.26.0->docling-core[chunking]<3.0.0,>=2.26.0->docling)\n",
            "  Downloading jsonref-1.1.0-py3-none-any.whl.metadata (2.7 kB)\n",
            "Requirement already satisfied: jsonschema<5.0.0,>=4.16.0 in /usr/local/lib/python3.11/dist-packages (from docling-core<3.0.0,>=2.26.0->docling-core[chunking]<3.0.0,>=2.26.0->docling) (4.23.0)\n",
            "Collecting latex2mathml<4.0.0,>=3.77.0 (from docling-core<3.0.0,>=2.26.0->docling-core[chunking]<3.0.0,>=2.26.0->docling)\n",
            "  Downloading latex2mathml-3.78.0-py3-none-any.whl.metadata (14 kB)\n",
            "Requirement already satisfied: pyyaml<7.0.0,>=5.1 in /usr/local/lib/python3.11/dist-packages (from docling-core<3.0.0,>=2.26.0->docling-core[chunking]<3.0.0,>=2.26.0->docling) (6.0.2)\n",
            "Requirement already satisfied: tabulate<0.10.0,>=0.9.0 in /usr/local/lib/python3.11/dist-packages (from docling-core<3.0.0,>=2.26.0->docling-core[chunking]<3.0.0,>=2.26.0->docling) (0.9.0)\n",
            "Collecting semchunk<3.0.0,>=2.2.0 (from docling-core[chunking]<3.0.0,>=2.26.0->docling)\n",
            "  Downloading semchunk-2.2.2-py3-none-any.whl.metadata (10 kB)\n",
            "Requirement already satisfied: transformers<5.0.0,>=4.34.0 in /usr/local/lib/python3.11/dist-packages (from docling-core[chunking]<3.0.0,>=2.26.0->docling) (4.51.3)\n",
            "Collecting jsonlines<4.0.0,>=3.1.0 (from docling-ibm-models<4.0.0,>=3.4.0->docling)\n",
            "  Downloading jsonlines-3.1.0-py3-none-any.whl.metadata (1.7 kB)\n",
            "Requirement already satisfied: numpy<3.0.0,>=1.24.4 in /usr/local/lib/python3.11/dist-packages (from docling-ibm-models<4.0.0,>=3.4.0->docling) (2.0.2)\n",
            "Requirement already satisfied: opencv-python-headless<5.0.0.0,>=4.6.0.66 in /usr/local/lib/python3.11/dist-packages (from docling-ibm-models<4.0.0,>=3.4.0->docling) (4.11.0.86)\n",
            "Requirement already satisfied: safetensors<1,>=0.4.3 in /usr/local/lib/python3.11/dist-packages (from safetensors[torch]<1,>=0.4.3->docling-ibm-models<4.0.0,>=3.4.0->docling) (0.5.3)\n",
            "Requirement already satisfied: torch<3.0.0,>=2.2.2 in /usr/local/lib/python3.11/dist-packages (from docling-ibm-models<4.0.0,>=3.4.0->docling) (2.6.0+cu124)\n",
            "Requirement already satisfied: torchvision<1,>=0 in /usr/local/lib/python3.11/dist-packages (from docling-ibm-models<4.0.0,>=3.4.0->docling) (0.21.0+cu124)\n",
            "Requirement already satisfied: scikit-image in /usr/local/lib/python3.11/dist-packages (from easyocr<2.0,>=1.7->docling) (0.25.2)\n",
            "Collecting python-bidi (from easyocr<2.0,>=1.7->docling)\n",
            "  Downloading python_bidi-0.6.6-cp311-cp311-manylinux_2_17_x86_64.manylinux2014_x86_64.whl.metadata (4.9 kB)\n",
            "Requirement already satisfied: Shapely in /usr/local/lib/python3.11/dist-packages (from easyocr<2.0,>=1.7->docling) (2.1.0)\n",
            "Collecting pyclipper (from easyocr<2.0,>=1.7->docling)\n",
            "  Downloading pyclipper-1.3.0.post6-cp311-cp311-manylinux_2_17_x86_64.manylinux2014_x86_64.whl.metadata (9.0 kB)\n",
            "Collecting ninja (from easyocr<2.0,>=1.7->docling)\n",
            "  Downloading ninja-1.11.1.4-py3-none-manylinux_2_12_x86_64.manylinux2010_x86_64.whl.metadata (5.0 kB)\n",
            "Requirement already satisfied: filelock in /usr/local/lib/python3.11/dist-packages (from huggingface_hub<1,>=0.23->docling) (3.18.0)\n",
            "Requirement already satisfied: fsspec>=2023.5.0 in /usr/local/lib/python3.11/dist-packages (from huggingface_hub<1,>=0.23->docling) (2025.3.2)\n",
            "Requirement already satisfied: packaging>=20.9 in /usr/local/lib/python3.11/dist-packages (from huggingface_hub<1,>=0.23->docling) (24.2)\n",
            "Requirement already satisfied: et-xmlfile in /usr/local/lib/python3.11/dist-packages (from openpyxl<4.0.0,>=3.1.5->docling) (2.0.0)\n",
            "Requirement already satisfied: python-dateutil>=2.8.2 in /usr/local/lib/python3.11/dist-packages (from pandas<3.0.0,>=2.1.4->docling) (2.9.0.post0)\n",
            "Requirement already satisfied: pytz>=2020.1 in /usr/local/lib/python3.11/dist-packages (from pandas<3.0.0,>=2.1.4->docling) (2025.2)\n",
            "Requirement already satisfied: tzdata>=2022.7 in /usr/local/lib/python3.11/dist-packages (from pandas<3.0.0,>=2.1.4->docling) (2025.2)\n",
            "Requirement already satisfied: annotated-types>=0.6.0 in /usr/local/lib/python3.11/dist-packages (from pydantic<3.0.0,>=2.0.0->docling) (0.7.0)\n",
            "Requirement already satisfied: pydantic-core==2.33.2 in /usr/local/lib/python3.11/dist-packages (from pydantic<3.0.0,>=2.0.0->docling) (2.33.2)\n",
            "Requirement already satisfied: typing-inspection>=0.4.0 in /usr/local/lib/python3.11/dist-packages (from pydantic<3.0.0,>=2.0.0->docling) (0.4.0)\n",
            "Collecting python-dotenv>=0.21.0 (from pydantic-settings<3.0.0,>=2.3.0->docling)\n",
            "  Downloading python_dotenv-1.1.0-py3-none-any.whl.metadata (24 kB)\n",
            "Collecting XlsxWriter>=0.5.7 (from python-pptx<2.0.0,>=1.0.2->docling)\n",
            "  Downloading XlsxWriter-3.2.3-py3-none-any.whl.metadata (2.7 kB)\n",
            "Requirement already satisfied: charset-normalizer<4,>=2 in /usr/local/lib/python3.11/dist-packages (from requests<3.0.0,>=2.32.2->docling) (3.4.1)\n",
            "Requirement already satisfied: idna<4,>=2.5 in /usr/local/lib/python3.11/dist-packages (from requests<3.0.0,>=2.32.2->docling) (3.10)\n",
            "Requirement already satisfied: urllib3<3,>=1.21.1 in /usr/local/lib/python3.11/dist-packages (from requests<3.0.0,>=2.32.2->docling) (2.4.0)\n",
            "Requirement already satisfied: click>=8.0.0 in /usr/local/lib/python3.11/dist-packages (from typer<0.16.0,>=0.12.5->docling) (8.1.8)\n",
            "Requirement already satisfied: shellingham>=1.3.0 in /usr/local/lib/python3.11/dist-packages (from typer<0.16.0,>=0.12.5->docling) (1.5.4)\n",
            "Requirement already satisfied: rich>=10.11.0 in /usr/local/lib/python3.11/dist-packages (from typer<0.16.0,>=0.12.5->docling) (13.9.4)\n",
            "Requirement already satisfied: attrs>=19.2.0 in /usr/local/lib/python3.11/dist-packages (from jsonlines<4.0.0,>=3.1.0->docling-ibm-models<4.0.0,>=3.4.0->docling) (25.3.0)\n",
            "Requirement already satisfied: jsonschema-specifications>=2023.03.6 in /usr/local/lib/python3.11/dist-packages (from jsonschema<5.0.0,>=4.16.0->docling-core<3.0.0,>=2.26.0->docling-core[chunking]<3.0.0,>=2.26.0->docling) (2025.4.1)\n",
            "Requirement already satisfied: referencing>=0.28.4 in /usr/local/lib/python3.11/dist-packages (from jsonschema<5.0.0,>=4.16.0->docling-core<3.0.0,>=2.26.0->docling-core[chunking]<3.0.0,>=2.26.0->docling) (0.36.2)\n",
            "Requirement already satisfied: rpds-py>=0.7.1 in /usr/local/lib/python3.11/dist-packages (from jsonschema<5.0.0,>=4.16.0->docling-core<3.0.0,>=2.26.0->docling-core[chunking]<3.0.0,>=2.26.0->docling) (0.24.0)\n",
            "Requirement already satisfied: six>=1.5 in /usr/local/lib/python3.11/dist-packages (from python-dateutil>=2.8.2->pandas<3.0.0,>=2.1.4->docling) (1.17.0)\n",
            "Requirement already satisfied: markdown-it-py>=2.2.0 in /usr/local/lib/python3.11/dist-packages (from rich>=10.11.0->typer<0.16.0,>=0.12.5->docling) (3.0.0)\n",
            "Requirement already satisfied: pygments<3.0.0,>=2.13.0 in /usr/local/lib/python3.11/dist-packages (from rich>=10.11.0->typer<0.16.0,>=0.12.5->docling) (2.19.1)\n",
            "Collecting mpire[dill] (from semchunk<3.0.0,>=2.2.0->docling-core[chunking]<3.0.0,>=2.26.0->docling)\n",
            "  Downloading mpire-2.10.2-py3-none-any.whl.metadata (14 kB)\n",
            "Requirement already satisfied: networkx in /usr/local/lib/python3.11/dist-packages (from torch<3.0.0,>=2.2.2->docling-ibm-models<4.0.0,>=3.4.0->docling) (3.4.2)\n",
            "Requirement already satisfied: jinja2 in /usr/local/lib/python3.11/dist-packages (from torch<3.0.0,>=2.2.2->docling-ibm-models<4.0.0,>=3.4.0->docling) (3.1.6)\n",
            "Collecting nvidia-cuda-nvrtc-cu12==12.4.127 (from torch<3.0.0,>=2.2.2->docling-ibm-models<4.0.0,>=3.4.0->docling)\n",
            "  Downloading nvidia_cuda_nvrtc_cu12-12.4.127-py3-none-manylinux2014_x86_64.whl.metadata (1.5 kB)\n",
            "Collecting nvidia-cuda-runtime-cu12==12.4.127 (from torch<3.0.0,>=2.2.2->docling-ibm-models<4.0.0,>=3.4.0->docling)\n",
            "  Downloading nvidia_cuda_runtime_cu12-12.4.127-py3-none-manylinux2014_x86_64.whl.metadata (1.5 kB)\n",
            "Collecting nvidia-cuda-cupti-cu12==12.4.127 (from torch<3.0.0,>=2.2.2->docling-ibm-models<4.0.0,>=3.4.0->docling)\n",
            "  Downloading nvidia_cuda_cupti_cu12-12.4.127-py3-none-manylinux2014_x86_64.whl.metadata (1.6 kB)\n",
            "Collecting nvidia-cudnn-cu12==9.1.0.70 (from torch<3.0.0,>=2.2.2->docling-ibm-models<4.0.0,>=3.4.0->docling)\n",
            "  Downloading nvidia_cudnn_cu12-9.1.0.70-py3-none-manylinux2014_x86_64.whl.metadata (1.6 kB)\n",
            "Collecting nvidia-cublas-cu12==12.4.5.8 (from torch<3.0.0,>=2.2.2->docling-ibm-models<4.0.0,>=3.4.0->docling)\n",
            "  Downloading nvidia_cublas_cu12-12.4.5.8-py3-none-manylinux2014_x86_64.whl.metadata (1.5 kB)\n",
            "Collecting nvidia-cufft-cu12==11.2.1.3 (from torch<3.0.0,>=2.2.2->docling-ibm-models<4.0.0,>=3.4.0->docling)\n",
            "  Downloading nvidia_cufft_cu12-11.2.1.3-py3-none-manylinux2014_x86_64.whl.metadata (1.5 kB)\n",
            "Collecting nvidia-curand-cu12==10.3.5.147 (from torch<3.0.0,>=2.2.2->docling-ibm-models<4.0.0,>=3.4.0->docling)\n",
            "  Downloading nvidia_curand_cu12-10.3.5.147-py3-none-manylinux2014_x86_64.whl.metadata (1.5 kB)\n",
            "Collecting nvidia-cusolver-cu12==11.6.1.9 (from torch<3.0.0,>=2.2.2->docling-ibm-models<4.0.0,>=3.4.0->docling)\n",
            "  Downloading nvidia_cusolver_cu12-11.6.1.9-py3-none-manylinux2014_x86_64.whl.metadata (1.6 kB)\n",
            "Collecting nvidia-cusparse-cu12==12.3.1.170 (from torch<3.0.0,>=2.2.2->docling-ibm-models<4.0.0,>=3.4.0->docling)\n",
            "  Downloading nvidia_cusparse_cu12-12.3.1.170-py3-none-manylinux2014_x86_64.whl.metadata (1.6 kB)\n",
            "Requirement already satisfied: nvidia-cusparselt-cu12==0.6.2 in /usr/local/lib/python3.11/dist-packages (from torch<3.0.0,>=2.2.2->docling-ibm-models<4.0.0,>=3.4.0->docling) (0.6.2)\n",
            "Requirement already satisfied: nvidia-nccl-cu12==2.21.5 in /usr/local/lib/python3.11/dist-packages (from torch<3.0.0,>=2.2.2->docling-ibm-models<4.0.0,>=3.4.0->docling) (2.21.5)\n",
            "Requirement already satisfied: nvidia-nvtx-cu12==12.4.127 in /usr/local/lib/python3.11/dist-packages (from torch<3.0.0,>=2.2.2->docling-ibm-models<4.0.0,>=3.4.0->docling) (12.4.127)\n",
            "Collecting nvidia-nvjitlink-cu12==12.4.127 (from torch<3.0.0,>=2.2.2->docling-ibm-models<4.0.0,>=3.4.0->docling)\n",
            "  Downloading nvidia_nvjitlink_cu12-12.4.127-py3-none-manylinux2014_x86_64.whl.metadata (1.5 kB)\n",
            "Requirement already satisfied: triton==3.2.0 in /usr/local/lib/python3.11/dist-packages (from torch<3.0.0,>=2.2.2->docling-ibm-models<4.0.0,>=3.4.0->docling) (3.2.0)\n",
            "Requirement already satisfied: sympy==1.13.1 in /usr/local/lib/python3.11/dist-packages (from torch<3.0.0,>=2.2.2->docling-ibm-models<4.0.0,>=3.4.0->docling) (1.13.1)\n",
            "Requirement already satisfied: mpmath<1.4,>=1.1.0 in /usr/local/lib/python3.11/dist-packages (from sympy==1.13.1->torch<3.0.0,>=2.2.2->docling-ibm-models<4.0.0,>=3.4.0->docling) (1.3.0)\n",
            "Requirement already satisfied: regex!=2019.12.17 in /usr/local/lib/python3.11/dist-packages (from transformers<5.0.0,>=4.34.0->docling-core[chunking]<3.0.0,>=2.26.0->docling) (2024.11.6)\n",
            "Requirement already satisfied: tokenizers<0.22,>=0.21 in /usr/local/lib/python3.11/dist-packages (from transformers<5.0.0,>=4.34.0->docling-core[chunking]<3.0.0,>=2.26.0->docling) (0.21.1)\n",
            "Requirement already satisfied: imageio!=2.35.0,>=2.33 in /usr/local/lib/python3.11/dist-packages (from scikit-image->easyocr<2.0,>=1.7->docling) (2.37.0)\n",
            "Requirement already satisfied: tifffile>=2022.8.12 in /usr/local/lib/python3.11/dist-packages (from scikit-image->easyocr<2.0,>=1.7->docling) (2025.3.30)\n",
            "Requirement already satisfied: lazy-loader>=0.4 in /usr/local/lib/python3.11/dist-packages (from scikit-image->easyocr<2.0,>=1.7->docling) (0.4)\n",
            "Requirement already satisfied: mdurl~=0.1 in /usr/local/lib/python3.11/dist-packages (from markdown-it-py>=2.2.0->rich>=10.11.0->typer<0.16.0,>=0.12.5->docling) (0.1.2)\n",
            "Requirement already satisfied: MarkupSafe>=2.0 in /usr/local/lib/python3.11/dist-packages (from jinja2->torch<3.0.0,>=2.2.2->docling-ibm-models<4.0.0,>=3.4.0->docling) (3.0.2)\n",
            "Collecting multiprocess>=0.70.15 (from mpire[dill]->semchunk<3.0.0,>=2.2.0->docling-core[chunking]<3.0.0,>=2.26.0->docling)\n",
            "  Downloading multiprocess-0.70.18-py311-none-any.whl.metadata (7.5 kB)\n",
            "Collecting dill>=0.4.0 (from multiprocess>=0.70.15->mpire[dill]->semchunk<3.0.0,>=2.2.0->docling-core[chunking]<3.0.0,>=2.26.0->docling)\n",
            "  Downloading dill-0.4.0-py3-none-any.whl.metadata (10 kB)\n",
            "Downloading docling-2.31.0-py3-none-any.whl (166 kB)\n",
            "\u001b[2K   \u001b[90m━━━━━━━━━━━━━━━━━━━━━━━━━━━━━━━━━━━━━━━━\u001b[0m \u001b[32m166.1/166.1 kB\u001b[0m \u001b[31m8.1 MB/s\u001b[0m eta \u001b[36m0:00:00\u001b[0m\n",
            "\u001b[?25hDownloading docling_core-2.30.0-py3-none-any.whl (142 kB)\n",
            "\u001b[2K   \u001b[90m━━━━━━━━━━━━━━━━━━━━━━━━━━━━━━━━━━━━━━━━\u001b[0m \u001b[32m142.3/142.3 kB\u001b[0m \u001b[31m8.3 MB/s\u001b[0m eta \u001b[36m0:00:00\u001b[0m\n",
            "\u001b[?25hDownloading docling_ibm_models-3.4.3-py3-none-any.whl (80 kB)\n",
            "\u001b[2K   \u001b[90m━━━━━━━━━━━━━━━━━━━━━━━━━━━━━━━━━━━━━━━━\u001b[0m \u001b[32m80.9/80.9 kB\u001b[0m \u001b[31m5.0 MB/s\u001b[0m eta \u001b[36m0:00:00\u001b[0m\n",
            "\u001b[?25hDownloading docling_parse-4.0.1-cp311-cp311-manylinux_2_17_x86_64.manylinux2014_x86_64.whl (15.1 MB)\n",
            "\u001b[2K   \u001b[90m━━━━━━━━━━━━━━━━━━━━━━━━━━━━━━━━━━━━━━━━\u001b[0m \u001b[32m15.1/15.1 MB\u001b[0m \u001b[31m58.3 MB/s\u001b[0m eta \u001b[36m0:00:00\u001b[0m\n",
            "\u001b[?25hDownloading easyocr-1.7.2-py3-none-any.whl (2.9 MB)\n",
            "\u001b[2K   \u001b[90m━━━━━━━━━━━━━━━━━━━━━━━━━━━━━━━━━━━━━━━━\u001b[0m \u001b[32m2.9/2.9 MB\u001b[0m \u001b[31m56.5 MB/s\u001b[0m eta \u001b[36m0:00:00\u001b[0m\n",
            "\u001b[?25hDownloading filetype-1.2.0-py2.py3-none-any.whl (19 kB)\n",
            "Downloading marko-2.1.3-py3-none-any.whl (42 kB)\n",
            "\u001b[2K   \u001b[90m━━━━━━━━━━━━━━━━━━━━━━━━━━━━━━━━━━━━━━━━\u001b[0m \u001b[32m42.2/42.2 kB\u001b[0m \u001b[31m2.1 MB/s\u001b[0m eta \u001b[36m0:00:00\u001b[0m\n",
            "\u001b[?25hDownloading pydantic_settings-2.9.1-py3-none-any.whl (44 kB)\n",
            "\u001b[2K   \u001b[90m━━━━━━━━━━━━━━━━━━━━━━━━━━━━━━━━━━━━━━━━\u001b[0m \u001b[32m44.4/44.4 kB\u001b[0m \u001b[31m2.8 MB/s\u001b[0m eta \u001b[36m0:00:00\u001b[0m\n",
            "\u001b[?25hDownloading pypdfium2-4.30.1-py3-none-manylinux_2_17_x86_64.manylinux2014_x86_64.whl (2.9 MB)\n",
            "\u001b[2K   \u001b[90m━━━━━━━━━━━━━━━━━━━━━━━━━━━━━━━━━━━━━━━━\u001b[0m \u001b[32m2.9/2.9 MB\u001b[0m \u001b[31m56.4 MB/s\u001b[0m eta \u001b[36m0:00:00\u001b[0m\n",
            "\u001b[?25hDownloading python_docx-1.1.2-py3-none-any.whl (244 kB)\n",
            "\u001b[2K   \u001b[90m━━━━━━━━━━━━━━━━━━━━━━━━━━━━━━━━━━━━━━━━\u001b[0m \u001b[32m244.3/244.3 kB\u001b[0m \u001b[31m13.1 MB/s\u001b[0m eta \u001b[36m0:00:00\u001b[0m\n",
            "\u001b[?25hDownloading python_pptx-1.0.2-py3-none-any.whl (472 kB)\n",
            "\u001b[2K   \u001b[90m━━━━━━━━━━━━━━━━━━━━━━━━━━━━━━━━━━━━━━━━\u001b[0m \u001b[32m472.8/472.8 kB\u001b[0m \u001b[31m24.3 MB/s\u001b[0m eta \u001b[36m0:00:00\u001b[0m\n",
            "\u001b[?25hDownloading rtree-1.4.0-py3-none-manylinux2014_x86_64.manylinux_2_17_x86_64.whl (541 kB)\n",
            "\u001b[2K   \u001b[90m━━━━━━━━━━━━━━━━━━━━━━━━━━━━━━━━━━━━━━━━\u001b[0m \u001b[32m541.1/541.1 kB\u001b[0m \u001b[31m30.8 MB/s\u001b[0m eta \u001b[36m0:00:00\u001b[0m\n",
            "\u001b[?25hDownloading jsonlines-3.1.0-py3-none-any.whl (8.6 kB)\n",
            "Downloading jsonref-1.1.0-py3-none-any.whl (9.4 kB)\n",
            "Downloading latex2mathml-3.78.0-py3-none-any.whl (73 kB)\n",
            "\u001b[2K   \u001b[90m━━━━━━━━━━━━━━━━━━━━━━━━━━━━━━━━━━━━━━━━\u001b[0m \u001b[32m73.7/73.7 kB\u001b[0m \u001b[31m4.5 MB/s\u001b[0m eta \u001b[36m0:00:00\u001b[0m\n",
            "\u001b[?25hDownloading python_dotenv-1.1.0-py3-none-any.whl (20 kB)\n",
            "Downloading semchunk-2.2.2-py3-none-any.whl (10 kB)\n",
            "Downloading nvidia_cublas_cu12-12.4.5.8-py3-none-manylinux2014_x86_64.whl (363.4 MB)\n",
            "\u001b[2K   \u001b[90m━━━━━━━━━━━━━━━━━━━━━━━━━━━━━━━━━━━━━━━━\u001b[0m \u001b[32m363.4/363.4 MB\u001b[0m \u001b[31m4.0 MB/s\u001b[0m eta \u001b[36m0:00:00\u001b[0m\n",
            "\u001b[?25hDownloading nvidia_cuda_cupti_cu12-12.4.127-py3-none-manylinux2014_x86_64.whl (13.8 MB)\n",
            "\u001b[2K   \u001b[90m━━━━━━━━━━━━━━━━━━━━━━━━━━━━━━━━━━━━━━━━\u001b[0m \u001b[32m13.8/13.8 MB\u001b[0m \u001b[31m88.7 MB/s\u001b[0m eta \u001b[36m0:00:00\u001b[0m\n",
            "\u001b[?25hDownloading nvidia_cuda_nvrtc_cu12-12.4.127-py3-none-manylinux2014_x86_64.whl (24.6 MB)\n",
            "\u001b[2K   \u001b[90m━━━━━━━━━━━━━━━━━━━━━━━━━━━━━━━━━━━━━━━━\u001b[0m \u001b[32m24.6/24.6 MB\u001b[0m \u001b[31m74.7 MB/s\u001b[0m eta \u001b[36m0:00:00\u001b[0m\n",
            "\u001b[?25hDownloading nvidia_cuda_runtime_cu12-12.4.127-py3-none-manylinux2014_x86_64.whl (883 kB)\n",
            "\u001b[2K   \u001b[90m━━━━━━━━━━━━━━━━━━━━━━━━━━━━━━━━━━━━━━━━\u001b[0m \u001b[32m883.7/883.7 kB\u001b[0m \u001b[31m44.5 MB/s\u001b[0m eta \u001b[36m0:00:00\u001b[0m\n",
            "\u001b[?25hDownloading nvidia_cudnn_cu12-9.1.0.70-py3-none-manylinux2014_x86_64.whl (664.8 MB)\n",
            "\u001b[2K   \u001b[90m━━━━━━━━━━━━━━━━━━━━━━━━━━━━━━━━━━━━━━━━\u001b[0m \u001b[32m664.8/664.8 MB\u001b[0m \u001b[31m2.6 MB/s\u001b[0m eta \u001b[36m0:00:00\u001b[0m\n",
            "\u001b[?25hDownloading nvidia_cufft_cu12-11.2.1.3-py3-none-manylinux2014_x86_64.whl (211.5 MB)\n",
            "\u001b[2K   \u001b[90m━━━━━━━━━━━━━━━━━━━━━━━━━━━━━━━━━━━━━━━━\u001b[0m \u001b[32m211.5/211.5 MB\u001b[0m \u001b[31m5.9 MB/s\u001b[0m eta \u001b[36m0:00:00\u001b[0m\n",
            "\u001b[?25hDownloading nvidia_curand_cu12-10.3.5.147-py3-none-manylinux2014_x86_64.whl (56.3 MB)\n",
            "\u001b[2K   \u001b[90m━━━━━━━━━━━━━━━━━━━━━━━━━━━━━━━━━━━━━━━━\u001b[0m \u001b[32m56.3/56.3 MB\u001b[0m \u001b[31m12.0 MB/s\u001b[0m eta \u001b[36m0:00:00\u001b[0m\n",
            "\u001b[?25hDownloading nvidia_cusolver_cu12-11.6.1.9-py3-none-manylinux2014_x86_64.whl (127.9 MB)\n",
            "\u001b[2K   \u001b[90m━━━━━━━━━━━━━━━━━━━━━━━━━━━━━━━━━━━━━━━━\u001b[0m \u001b[32m127.9/127.9 MB\u001b[0m \u001b[31m6.7 MB/s\u001b[0m eta \u001b[36m0:00:00\u001b[0m\n",
            "\u001b[?25hDownloading nvidia_cusparse_cu12-12.3.1.170-py3-none-manylinux2014_x86_64.whl (207.5 MB)\n",
            "\u001b[2K   \u001b[90m━━━━━━━━━━━━━━━━━━━━━━━━━━━━━━━━━━━━━━━━\u001b[0m \u001b[32m207.5/207.5 MB\u001b[0m \u001b[31m6.3 MB/s\u001b[0m eta \u001b[36m0:00:00\u001b[0m\n",
            "\u001b[?25hDownloading nvidia_nvjitlink_cu12-12.4.127-py3-none-manylinux2014_x86_64.whl (21.1 MB)\n",
            "\u001b[2K   \u001b[90m━━━━━━━━━━━━━━━━━━━━━━━━━━━━━━━━━━━━━━━━\u001b[0m \u001b[32m21.1/21.1 MB\u001b[0m \u001b[31m59.6 MB/s\u001b[0m eta \u001b[36m0:00:00\u001b[0m\n",
            "\u001b[?25hDownloading XlsxWriter-3.2.3-py3-none-any.whl (169 kB)\n",
            "\u001b[2K   \u001b[90m━━━━━━━━━━━━━━━━━━━━━━━━━━━━━━━━━━━━━━━━\u001b[0m \u001b[32m169.4/169.4 kB\u001b[0m \u001b[31m12.2 MB/s\u001b[0m eta \u001b[36m0:00:00\u001b[0m\n",
            "\u001b[?25hDownloading ninja-1.11.1.4-py3-none-manylinux_2_12_x86_64.manylinux2010_x86_64.whl (422 kB)\n",
            "\u001b[2K   \u001b[90m━━━━━━━━━━━━━━━━━━━━━━━━━━━━━━━━━━━━━━━━\u001b[0m \u001b[32m422.8/422.8 kB\u001b[0m \u001b[31m24.9 MB/s\u001b[0m eta \u001b[36m0:00:00\u001b[0m\n",
            "\u001b[?25hDownloading pyclipper-1.3.0.post6-cp311-cp311-manylinux_2_17_x86_64.manylinux2014_x86_64.whl (969 kB)\n",
            "\u001b[2K   \u001b[90m━━━━━━━━━━━━━━━━━━━━━━━━━━━━━━━━━━━━━━━━\u001b[0m \u001b[32m969.6/969.6 kB\u001b[0m \u001b[31m37.8 MB/s\u001b[0m eta \u001b[36m0:00:00\u001b[0m\n",
            "\u001b[?25hDownloading python_bidi-0.6.6-cp311-cp311-manylinux_2_17_x86_64.manylinux2014_x86_64.whl (292 kB)\n",
            "\u001b[2K   \u001b[90m━━━━━━━━━━━━━━━━━━━━━━━━━━━━━━━━━━━━━━━━\u001b[0m \u001b[32m292.9/292.9 kB\u001b[0m \u001b[31m18.5 MB/s\u001b[0m eta \u001b[36m0:00:00\u001b[0m\n",
            "\u001b[?25hDownloading multiprocess-0.70.18-py311-none-any.whl (144 kB)\n",
            "\u001b[2K   \u001b[90m━━━━━━━━━━━━━━━━━━━━━━━━━━━━━━━━━━━━━━━━\u001b[0m \u001b[32m144.5/144.5 kB\u001b[0m \u001b[31m10.8 MB/s\u001b[0m eta \u001b[36m0:00:00\u001b[0m\n",
            "\u001b[?25hDownloading mpire-2.10.2-py3-none-any.whl (272 kB)\n",
            "\u001b[2K   \u001b[90m━━━━━━━━━━━━━━━━━━━━━━━━━━━━━━━━━━━━━━━━\u001b[0m \u001b[32m272.8/272.8 kB\u001b[0m \u001b[31m17.6 MB/s\u001b[0m eta \u001b[36m0:00:00\u001b[0m\n",
            "\u001b[?25hDownloading dill-0.4.0-py3-none-any.whl (119 kB)\n",
            "\u001b[2K   \u001b[90m━━━━━━━━━━━━━━━━━━━━━━━━━━━━━━━━━━━━━━━━\u001b[0m \u001b[32m119.7/119.7 kB\u001b[0m \u001b[31m8.7 MB/s\u001b[0m eta \u001b[36m0:00:00\u001b[0m\n",
            "\u001b[?25hBuilding wheels for collected packages: pylatexenc\n",
            "  Building wheel for pylatexenc (setup.py) ... \u001b[?25l\u001b[?25hdone\n",
            "  Created wheel for pylatexenc: filename=pylatexenc-2.10-py3-none-any.whl size=136817 sha256=4004e932a30104cc82b53876509598b45d4beecde2c5ac403f4fb1d133b46532\n",
            "  Stored in directory: /root/.cache/pip/wheels/b1/7a/33/9fdd892f784ed4afda62b685ae3703adf4c91aa0f524c28f03\n",
            "Successfully built pylatexenc\n",
            "Installing collected packages: python-bidi, pylatexenc, pyclipper, filetype, XlsxWriter, rtree, python-dotenv, python-docx, pypdfium2, nvidia-nvjitlink-cu12, nvidia-curand-cu12, nvidia-cufft-cu12, nvidia-cuda-runtime-cu12, nvidia-cuda-nvrtc-cu12, nvidia-cuda-cupti-cu12, nvidia-cublas-cu12, ninja, mpire, marko, latex2mathml, jsonref, jsonlines, dill, python-pptx, nvidia-cusparse-cu12, nvidia-cudnn-cu12, multiprocess, pydantic-settings, nvidia-cusolver-cu12, semchunk, docling-core, docling-parse, easyocr, docling-ibm-models, docling\n",
            "  Attempting uninstall: nvidia-nvjitlink-cu12\n",
            "    Found existing installation: nvidia-nvjitlink-cu12 12.5.82\n",
            "    Uninstalling nvidia-nvjitlink-cu12-12.5.82:\n",
            "      Successfully uninstalled nvidia-nvjitlink-cu12-12.5.82\n",
            "  Attempting uninstall: nvidia-curand-cu12\n",
            "    Found existing installation: nvidia-curand-cu12 10.3.6.82\n",
            "    Uninstalling nvidia-curand-cu12-10.3.6.82:\n",
            "      Successfully uninstalled nvidia-curand-cu12-10.3.6.82\n",
            "  Attempting uninstall: nvidia-cufft-cu12\n",
            "    Found existing installation: nvidia-cufft-cu12 11.2.3.61\n",
            "    Uninstalling nvidia-cufft-cu12-11.2.3.61:\n",
            "      Successfully uninstalled nvidia-cufft-cu12-11.2.3.61\n",
            "  Attempting uninstall: nvidia-cuda-runtime-cu12\n",
            "    Found existing installation: nvidia-cuda-runtime-cu12 12.5.82\n",
            "    Uninstalling nvidia-cuda-runtime-cu12-12.5.82:\n",
            "      Successfully uninstalled nvidia-cuda-runtime-cu12-12.5.82\n",
            "  Attempting uninstall: nvidia-cuda-nvrtc-cu12\n",
            "    Found existing installation: nvidia-cuda-nvrtc-cu12 12.5.82\n",
            "    Uninstalling nvidia-cuda-nvrtc-cu12-12.5.82:\n",
            "      Successfully uninstalled nvidia-cuda-nvrtc-cu12-12.5.82\n",
            "  Attempting uninstall: nvidia-cuda-cupti-cu12\n",
            "    Found existing installation: nvidia-cuda-cupti-cu12 12.5.82\n",
            "    Uninstalling nvidia-cuda-cupti-cu12-12.5.82:\n",
            "      Successfully uninstalled nvidia-cuda-cupti-cu12-12.5.82\n",
            "  Attempting uninstall: nvidia-cublas-cu12\n",
            "    Found existing installation: nvidia-cublas-cu12 12.5.3.2\n",
            "    Uninstalling nvidia-cublas-cu12-12.5.3.2:\n",
            "      Successfully uninstalled nvidia-cublas-cu12-12.5.3.2\n",
            "  Attempting uninstall: nvidia-cusparse-cu12\n",
            "    Found existing installation: nvidia-cusparse-cu12 12.5.1.3\n",
            "    Uninstalling nvidia-cusparse-cu12-12.5.1.3:\n",
            "      Successfully uninstalled nvidia-cusparse-cu12-12.5.1.3\n",
            "  Attempting uninstall: nvidia-cudnn-cu12\n",
            "    Found existing installation: nvidia-cudnn-cu12 9.3.0.75\n",
            "    Uninstalling nvidia-cudnn-cu12-9.3.0.75:\n",
            "      Successfully uninstalled nvidia-cudnn-cu12-9.3.0.75\n",
            "  Attempting uninstall: nvidia-cusolver-cu12\n",
            "    Found existing installation: nvidia-cusolver-cu12 11.6.3.83\n",
            "    Uninstalling nvidia-cusolver-cu12-11.6.3.83:\n",
            "      Successfully uninstalled nvidia-cusolver-cu12-11.6.3.83\n",
            "Successfully installed XlsxWriter-3.2.3 dill-0.4.0 docling-2.31.0 docling-core-2.30.0 docling-ibm-models-3.4.3 docling-parse-4.0.1 easyocr-1.7.2 filetype-1.2.0 jsonlines-3.1.0 jsonref-1.1.0 latex2mathml-3.78.0 marko-2.1.3 mpire-2.10.2 multiprocess-0.70.18 ninja-1.11.1.4 nvidia-cublas-cu12-12.4.5.8 nvidia-cuda-cupti-cu12-12.4.127 nvidia-cuda-nvrtc-cu12-12.4.127 nvidia-cuda-runtime-cu12-12.4.127 nvidia-cudnn-cu12-9.1.0.70 nvidia-cufft-cu12-11.2.1.3 nvidia-curand-cu12-10.3.5.147 nvidia-cusolver-cu12-11.6.1.9 nvidia-cusparse-cu12-12.3.1.170 nvidia-nvjitlink-cu12-12.4.127 pyclipper-1.3.0.post6 pydantic-settings-2.9.1 pylatexenc-2.10 pypdfium2-4.30.1 python-bidi-0.6.6 python-docx-1.1.2 python-dotenv-1.1.0 python-pptx-1.0.2 rtree-1.4.0 semchunk-2.2.2\n"
          ]
        }
      ]
    },
    {
      "cell_type": "code",
      "source": [
        "!poetry install --all-extras"
      ],
      "metadata": {
        "id": "ry0AtevLe5-F"
      },
      "execution_count": null,
      "outputs": []
    },
    {
      "source": [
        "!pip install poetry"
      ],
      "cell_type": "code",
      "metadata": {
        "colab": {
          "base_uri": "https://localhost:8080/"
        },
        "id": "TbkEbGQ8fNdT",
        "outputId": "a855913f-96fd-4740-a3d1-38bdb986b1f8"
      },
      "execution_count": 2,
      "outputs": [
        {
          "output_type": "stream",
          "name": "stdout",
          "text": [
            "Collecting poetry\n",
            "  Downloading poetry-2.1.3-py3-none-any.whl.metadata (7.1 kB)\n",
            "Requirement already satisfied: build<2.0.0,>=1.2.1 in /usr/local/lib/python3.11/dist-packages (from poetry) (1.2.2.post1)\n",
            "Requirement already satisfied: cachecontrol<0.15.0,>=0.14.0 in /usr/local/lib/python3.11/dist-packages (from cachecontrol[filecache]<0.15.0,>=0.14.0->poetry) (0.14.3)\n",
            "Collecting cleo<3.0.0,>=2.1.0 (from poetry)\n",
            "  Downloading cleo-2.1.0-py3-none-any.whl.metadata (12 kB)\n",
            "Collecting dulwich<0.23.0,>=0.22.6 (from poetry)\n",
            "  Downloading dulwich-0.22.8-cp311-cp311-manylinux_2_17_x86_64.manylinux2014_x86_64.whl.metadata (4.9 kB)\n",
            "Requirement already satisfied: fastjsonschema<3.0.0,>=2.18.0 in /usr/local/lib/python3.11/dist-packages (from poetry) (2.21.1)\n",
            "Collecting findpython<0.7.0,>=0.6.2 (from poetry)\n",
            "  Downloading findpython-0.6.3-py3-none-any.whl.metadata (5.3 kB)\n",
            "Collecting installer<0.8.0,>=0.7.0 (from poetry)\n",
            "  Downloading installer-0.7.0-py3-none-any.whl.metadata (936 bytes)\n",
            "Requirement already satisfied: keyring<26.0.0,>=25.1.0 in /usr/local/lib/python3.11/dist-packages (from poetry) (25.6.0)\n",
            "Requirement already satisfied: packaging>=24.0 in /usr/local/lib/python3.11/dist-packages (from poetry) (24.2)\n",
            "Collecting pbs-installer<2026.0.0,>=2025.1.6 (from pbs-installer[download,install]<2026.0.0,>=2025.1.6->poetry)\n",
            "  Downloading pbs_installer-2025.4.9-py3-none-any.whl.metadata (990 bytes)\n",
            "Collecting pkginfo<2.0,>=1.12 (from poetry)\n",
            "  Downloading pkginfo-1.12.1.2-py3-none-any.whl.metadata (13 kB)\n",
            "Requirement already satisfied: platformdirs<5,>=3.0.0 in /usr/local/lib/python3.11/dist-packages (from poetry) (4.3.7)\n",
            "Collecting poetry-core==2.1.3 (from poetry)\n",
            "  Downloading poetry_core-2.1.3-py3-none-any.whl.metadata (3.5 kB)\n",
            "Requirement already satisfied: pyproject-hooks<2.0.0,>=1.0.0 in /usr/local/lib/python3.11/dist-packages (from poetry) (1.2.0)\n",
            "Requirement already satisfied: requests<3.0,>=2.26 in /usr/local/lib/python3.11/dist-packages (from poetry) (2.32.3)\n",
            "Requirement already satisfied: requests-toolbelt<2.0.0,>=1.0.0 in /usr/local/lib/python3.11/dist-packages (from poetry) (1.0.0)\n",
            "Requirement already satisfied: shellingham<2.0,>=1.5 in /usr/local/lib/python3.11/dist-packages (from poetry) (1.5.4)\n",
            "Collecting tomlkit<1.0.0,>=0.11.4 (from poetry)\n",
            "  Downloading tomlkit-0.13.2-py3-none-any.whl.metadata (2.7 kB)\n",
            "Collecting trove-classifiers>=2022.5.19 (from poetry)\n",
            "  Downloading trove_classifiers-2025.5.9.12-py3-none-any.whl.metadata (2.3 kB)\n",
            "Collecting virtualenv<21.0.0,>=20.26.6 (from poetry)\n",
            "  Downloading virtualenv-20.31.2-py3-none-any.whl.metadata (4.5 kB)\n",
            "Requirement already satisfied: msgpack<2.0.0,>=0.5.2 in /usr/local/lib/python3.11/dist-packages (from cachecontrol<0.15.0,>=0.14.0->cachecontrol[filecache]<0.15.0,>=0.14.0->poetry) (1.1.0)\n",
            "Requirement already satisfied: filelock>=3.8.0 in /usr/local/lib/python3.11/dist-packages (from cachecontrol[filecache]<0.15.0,>=0.14.0->poetry) (3.18.0)\n",
            "Collecting crashtest<0.5.0,>=0.4.1 (from cleo<3.0.0,>=2.1.0->poetry)\n",
            "  Downloading crashtest-0.4.1-py3-none-any.whl.metadata (1.1 kB)\n",
            "Collecting rapidfuzz<4.0.0,>=3.0.0 (from cleo<3.0.0,>=2.1.0->poetry)\n",
            "  Downloading rapidfuzz-3.13.0-cp311-cp311-manylinux_2_17_x86_64.manylinux2014_x86_64.whl.metadata (12 kB)\n",
            "Requirement already satisfied: urllib3>=1.25 in /usr/local/lib/python3.11/dist-packages (from dulwich<0.23.0,>=0.22.6->poetry) (2.4.0)\n",
            "Requirement already satisfied: SecretStorage>=3.2 in /usr/local/lib/python3.11/dist-packages (from keyring<26.0.0,>=25.1.0->poetry) (3.3.3)\n",
            "Requirement already satisfied: jeepney>=0.4.2 in /usr/local/lib/python3.11/dist-packages (from keyring<26.0.0,>=25.1.0->poetry) (0.9.0)\n",
            "Requirement already satisfied: importlib_metadata>=4.11.4 in /usr/local/lib/python3.11/dist-packages (from keyring<26.0.0,>=25.1.0->poetry) (8.7.0)\n",
            "Requirement already satisfied: jaraco.classes in /usr/local/lib/python3.11/dist-packages (from keyring<26.0.0,>=25.1.0->poetry) (3.4.0)\n",
            "Requirement already satisfied: jaraco.functools in /usr/local/lib/python3.11/dist-packages (from keyring<26.0.0,>=25.1.0->poetry) (4.1.0)\n",
            "Requirement already satisfied: jaraco.context in /usr/local/lib/python3.11/dist-packages (from keyring<26.0.0,>=25.1.0->poetry) (6.0.1)\n",
            "Requirement already satisfied: httpx<1,>=0.27.0 in /usr/local/lib/python3.11/dist-packages (from pbs-installer[download,install]<2026.0.0,>=2025.1.6->poetry) (0.28.1)\n",
            "Requirement already satisfied: zstandard>=0.21.0 in /usr/local/lib/python3.11/dist-packages (from pbs-installer[download,install]<2026.0.0,>=2025.1.6->poetry) (0.23.0)\n",
            "Requirement already satisfied: charset-normalizer<4,>=2 in /usr/local/lib/python3.11/dist-packages (from requests<3.0,>=2.26->poetry) (3.4.1)\n",
            "Requirement already satisfied: idna<4,>=2.5 in /usr/local/lib/python3.11/dist-packages (from requests<3.0,>=2.26->poetry) (3.10)\n",
            "Requirement already satisfied: certifi>=2017.4.17 in /usr/local/lib/python3.11/dist-packages (from requests<3.0,>=2.26->poetry) (2025.4.26)\n",
            "Collecting distlib<1,>=0.3.7 (from virtualenv<21.0.0,>=20.26.6->poetry)\n",
            "  Downloading distlib-0.3.9-py2.py3-none-any.whl.metadata (5.2 kB)\n",
            "Requirement already satisfied: anyio in /usr/local/lib/python3.11/dist-packages (from httpx<1,>=0.27.0->pbs-installer[download,install]<2026.0.0,>=2025.1.6->poetry) (4.9.0)\n",
            "Requirement already satisfied: httpcore==1.* in /usr/local/lib/python3.11/dist-packages (from httpx<1,>=0.27.0->pbs-installer[download,install]<2026.0.0,>=2025.1.6->poetry) (1.0.9)\n",
            "Requirement already satisfied: h11>=0.16 in /usr/local/lib/python3.11/dist-packages (from httpcore==1.*->httpx<1,>=0.27.0->pbs-installer[download,install]<2026.0.0,>=2025.1.6->poetry) (0.16.0)\n",
            "Requirement already satisfied: zipp>=3.20 in /usr/local/lib/python3.11/dist-packages (from importlib_metadata>=4.11.4->keyring<26.0.0,>=25.1.0->poetry) (3.21.0)\n",
            "Requirement already satisfied: cryptography>=2.0 in /usr/local/lib/python3.11/dist-packages (from SecretStorage>=3.2->keyring<26.0.0,>=25.1.0->poetry) (43.0.3)\n",
            "Requirement already satisfied: more-itertools in /usr/local/lib/python3.11/dist-packages (from jaraco.classes->keyring<26.0.0,>=25.1.0->poetry) (10.7.0)\n",
            "Requirement already satisfied: backports.tarfile in /usr/local/lib/python3.11/dist-packages (from jaraco.context->keyring<26.0.0,>=25.1.0->poetry) (1.2.0)\n",
            "Requirement already satisfied: cffi>=1.12 in /usr/local/lib/python3.11/dist-packages (from cryptography>=2.0->SecretStorage>=3.2->keyring<26.0.0,>=25.1.0->poetry) (1.17.1)\n",
            "Requirement already satisfied: sniffio>=1.1 in /usr/local/lib/python3.11/dist-packages (from anyio->httpx<1,>=0.27.0->pbs-installer[download,install]<2026.0.0,>=2025.1.6->poetry) (1.3.1)\n",
            "Requirement already satisfied: typing_extensions>=4.5 in /usr/local/lib/python3.11/dist-packages (from anyio->httpx<1,>=0.27.0->pbs-installer[download,install]<2026.0.0,>=2025.1.6->poetry) (4.13.2)\n",
            "Requirement already satisfied: pycparser in /usr/local/lib/python3.11/dist-packages (from cffi>=1.12->cryptography>=2.0->SecretStorage>=3.2->keyring<26.0.0,>=25.1.0->poetry) (2.22)\n",
            "Downloading poetry-2.1.3-py3-none-any.whl (278 kB)\n",
            "\u001b[2K   \u001b[90m━━━━━━━━━━━━━━━━━━━━━━━━━━━━━━━━━━━━━━━━\u001b[0m \u001b[32m278.6/278.6 kB\u001b[0m \u001b[31m8.4 MB/s\u001b[0m eta \u001b[36m0:00:00\u001b[0m\n",
            "\u001b[?25hDownloading poetry_core-2.1.3-py3-none-any.whl (332 kB)\n",
            "\u001b[2K   \u001b[90m━━━━━━━━━━━━━━━━━━━━━━━━━━━━━━━━━━━━━━━━\u001b[0m \u001b[32m332.6/332.6 kB\u001b[0m \u001b[31m20.8 MB/s\u001b[0m eta \u001b[36m0:00:00\u001b[0m\n",
            "\u001b[?25hDownloading cleo-2.1.0-py3-none-any.whl (78 kB)\n",
            "\u001b[2K   \u001b[90m━━━━━━━━━━━━━━━━━━━━━━━━━━━━━━━━━━━━━━━━\u001b[0m \u001b[32m78.7/78.7 kB\u001b[0m \u001b[31m5.5 MB/s\u001b[0m eta \u001b[36m0:00:00\u001b[0m\n",
            "\u001b[?25hDownloading dulwich-0.22.8-cp311-cp311-manylinux_2_17_x86_64.manylinux2014_x86_64.whl (1.0 MB)\n",
            "\u001b[2K   \u001b[90m━━━━━━━━━━━━━━━━━━━━━━━━━━━━━━━━━━━━━━━━\u001b[0m \u001b[32m1.0/1.0 MB\u001b[0m \u001b[31m37.0 MB/s\u001b[0m eta \u001b[36m0:00:00\u001b[0m\n",
            "\u001b[?25hDownloading findpython-0.6.3-py3-none-any.whl (20 kB)\n",
            "Downloading installer-0.7.0-py3-none-any.whl (453 kB)\n",
            "\u001b[2K   \u001b[90m━━━━━━━━━━━━━━━━━━━━━━━━━━━━━━━━━━━━━━━━\u001b[0m \u001b[32m453.8/453.8 kB\u001b[0m \u001b[31m26.7 MB/s\u001b[0m eta \u001b[36m0:00:00\u001b[0m\n",
            "\u001b[?25hDownloading pbs_installer-2025.4.9-py3-none-any.whl (56 kB)\n",
            "\u001b[2K   \u001b[90m━━━━━━━━━━━━━━━━━━━━━━━━━━━━━━━━━━━━━━━━\u001b[0m \u001b[32m56.5/56.5 kB\u001b[0m \u001b[31m4.1 MB/s\u001b[0m eta \u001b[36m0:00:00\u001b[0m\n",
            "\u001b[?25hDownloading pkginfo-1.12.1.2-py3-none-any.whl (32 kB)\n",
            "Downloading tomlkit-0.13.2-py3-none-any.whl (37 kB)\n",
            "Downloading trove_classifiers-2025.5.9.12-py3-none-any.whl (14 kB)\n",
            "Downloading virtualenv-20.31.2-py3-none-any.whl (6.1 MB)\n",
            "\u001b[2K   \u001b[90m━━━━━━━━━━━━━━━━━━━━━━━━━━━━━━━━━━━━━━━━\u001b[0m \u001b[32m6.1/6.1 MB\u001b[0m \u001b[31m57.8 MB/s\u001b[0m eta \u001b[36m0:00:00\u001b[0m\n",
            "\u001b[?25hDownloading crashtest-0.4.1-py3-none-any.whl (7.6 kB)\n",
            "Downloading distlib-0.3.9-py2.py3-none-any.whl (468 kB)\n",
            "\u001b[2K   \u001b[90m━━━━━━━━━━━━━━━━━━━━━━━━━━━━━━━━━━━━━━━━\u001b[0m \u001b[32m469.0/469.0 kB\u001b[0m \u001b[31m20.2 MB/s\u001b[0m eta \u001b[36m0:00:00\u001b[0m\n",
            "\u001b[?25hDownloading rapidfuzz-3.13.0-cp311-cp311-manylinux_2_17_x86_64.manylinux2014_x86_64.whl (3.1 MB)\n",
            "\u001b[2K   \u001b[90m━━━━━━━━━━━━━━━━━━━━━━━━━━━━━━━━━━━━━━━━\u001b[0m \u001b[32m3.1/3.1 MB\u001b[0m \u001b[31m56.7 MB/s\u001b[0m eta \u001b[36m0:00:00\u001b[0m\n",
            "\u001b[?25hInstalling collected packages: trove-classifiers, distlib, virtualenv, tomlkit, rapidfuzz, poetry-core, pkginfo, pbs-installer, installer, findpython, dulwich, crashtest, cleo, poetry\n",
            "Successfully installed cleo-2.1.0 crashtest-0.4.1 distlib-0.3.9 dulwich-0.22.8 findpython-0.6.3 installer-0.7.0 pbs-installer-2025.4.9 pkginfo-1.12.1.2 poetry-2.1.3 poetry-core-2.1.3 rapidfuzz-3.13.0 tomlkit-0.13.2 trove-classifiers-2025.5.9.12 virtualenv-20.31.2\n"
          ]
        }
      ]
    },
    {
      "source": [
        "import os\n",
        "os.environ[\"PATH\"] += \":/usr/local/bin/poetry\""
      ],
      "cell_type": "code",
      "metadata": {
        "id": "A6ym6BVxkI3G"
      },
      "execution_count": 3,
      "outputs": []
    },
    {
      "source": [
        "!poetry install --all-extras"
      ],
      "cell_type": "code",
      "metadata": {
        "colab": {
          "base_uri": "https://localhost:8080/"
        },
        "id": "uAsc4BdyfNzj",
        "outputId": "ad27a78e-fdc0-4aed-b552-41e63103cd86"
      },
      "execution_count": 4,
      "outputs": [
        {
          "output_type": "stream",
          "name": "stdout",
          "text": [
            "\n",
            "\u001b[31;1mPoetry could not find a pyproject.toml file in /content or its parents\u001b[39;22m\n"
          ]
        }
      ]
    },
    {
      "source": [
        "!which poetry"
      ],
      "cell_type": "code",
      "metadata": {
        "colab": {
          "base_uri": "https://localhost:8080/"
        },
        "id": "g_zFnYmgkUNN",
        "outputId": "6c5e548c-fff8-435f-fbad-068fa4c2a5f5"
      },
      "execution_count": 2,
      "outputs": [
        {
          "output_type": "stream",
          "name": "stdout",
          "text": [
            "/usr/local/bin/poetry\n"
          ]
        }
      ]
    },
    {
      "source": [
        "!pip install poetry\n",
        "!poetry install --all-extras"
      ],
      "cell_type": "code",
      "metadata": {
        "id": "CAvYAecXfOdz"
      },
      "execution_count": null,
      "outputs": []
    },
    {
      "source": [
        "import os\n",
        "os.environ[\"PATH\"] += \":/usr/local/bin\" # استبدل \"/path/to/poetry/bin\" بالمسار الفعلي"
      ],
      "cell_type": "code",
      "metadata": {
        "id": "ARtH0vrfkbI2"
      },
      "execution_count": 14,
      "outputs": []
    },
    {
      "cell_type": "code",
      "source": [
        "!poetry install --all-extras"
      ],
      "metadata": {
        "colab": {
          "base_uri": "https://localhost:8080/"
        },
        "id": "8oAfZo_xkgof",
        "outputId": "3fecbf69-956c-4446-d9a2-471f8c31b982"
      },
      "execution_count": 15,
      "outputs": [
        {
          "output_type": "stream",
          "name": "stdout",
          "text": [
            "Creating virtualenv \u001b[36mmy-colab-project-6R8_UNrD-py3.11\u001b[39m in /root/.cache/pypoetry/virtualenvs\n",
            "\u001b[34mUpdating dependencies\u001b[39m\n",
            "\u001b[2K\u001b[34mResolving dependencies...\u001b[39m \u001b[39;2m(0.2s)\u001b[39;22m\n",
            "\n",
            "\u001b[34mWriting lock file\u001b[39m\n",
            "\n",
            "\u001b[39;1mInstalling\u001b[39;22m the current project: \u001b[36mmy-colab-project\u001b[39m (\u001b[39;1m0.1.0\u001b[39;22m)\n",
            "\u001b[31;1mError: The current project could not be installed: No file/folder found for package my-colab-project\n",
            "If you do not want to install the current project use \u001b[39;22m\u001b[36m--no-root\u001b[39m\u001b[31;1m.\n",
            "If you want to use Poetry only for dependency management but not for packaging, you can disable package mode by setting \u001b[39;22m\u001b[36mpackage-mode = false\u001b[39m\u001b[31;1m in your pyproject.toml file.\n",
            "If you did intend to install the current project, you may need to set `packages` in your pyproject.toml file.\n",
            "\u001b[39;22m\n"
          ]
        }
      ]
    },
    {
      "cell_type": "code",
      "source": [
        "!poetry"
      ],
      "metadata": {
        "colab": {
          "base_uri": "https://localhost:8080/"
        },
        "id": "GHw0qiRakj-t",
        "outputId": "8955db88-560a-46a1-a75c-6ca511d4f37e"
      },
      "execution_count": 7,
      "outputs": [
        {
          "output_type": "stream",
          "name": "stdout",
          "text": [
            "\u001b[39;1mPoetry\u001b[39;22m (version \u001b[36m2.1.3\u001b[39m)\n",
            "\n",
            "\u001b[39;1mUsage:\u001b[39;22m\n",
            "  command [options] [arguments]\n",
            "\n",
            "\u001b[39;1mOptions:\u001b[39;22m\n",
            "  \u001b[36m-h, --help\u001b[39m                 Display help for the given command. When no command is given display help for the \u001b[34mlist\u001b[39m command.\n",
            "  \u001b[36m-q, --quiet\u001b[39m                Do not output any message.\n",
            "  \u001b[36m-V, --version\u001b[39m              Display this application version.\n",
            "  \u001b[36m    --ansi\u001b[39m                 Force ANSI output.\n",
            "  \u001b[36m    --no-ansi\u001b[39m              Disable ANSI output.\n",
            "  \u001b[36m-n, --no-interaction\u001b[39m       Do not ask any interactive question.\n",
            "  \u001b[36m    --no-plugins\u001b[39m           Disables plugins.\n",
            "  \u001b[36m    --no-cache\u001b[39m             Disables Poetry source caches.\n",
            "  \u001b[36m-P, --project=PROJECT\u001b[39m      Specify another path as the project root. All command-line arguments will be resolved relative to the current working directory.\n",
            "  \u001b[36m-C, --directory=DIRECTORY\u001b[39m  The working directory for the Poetry command (defaults to the current working directory). All command-line arguments will be resolved relative to the given directory.\n",
            "  \u001b[36m-v|vv|vvv, --verbose\u001b[39m       Increase the verbosity of messages: 1 for normal output, 2 for more verbose output and 3 for debug.\n",
            "\n",
            "\u001b[39;1mAvailable commands:\u001b[39;22m\n",
            "  \u001b[36mabout\u001b[39m              Shows information about Poetry.\n",
            "  \u001b[36madd\u001b[39m                Adds a new dependency to \u001b[32mpyproject.toml\u001b[39m and installs it.\n",
            "  \u001b[36mbuild\u001b[39m              Builds a package, as a tarball and a wheel by default.\n",
            "  \u001b[36mcheck\u001b[39m              Validates the content of the \u001b[32mpyproject.toml\u001b[39m file and its consistency with the poetry.lock file.\n",
            "  \u001b[36mconfig\u001b[39m             Manages configuration settings.\n",
            "  \u001b[36mhelp\u001b[39m               Displays help for a command.\n",
            "  \u001b[36minit\u001b[39m               Creates a basic \u001b[32mpyproject.toml\u001b[39m file in the current directory.\n",
            "  \u001b[36minstall\u001b[39m            Installs the project dependencies.\n",
            "  \u001b[36mlist\u001b[39m               Lists commands.\n",
            "  \u001b[36mlock\u001b[39m               Locks the project dependencies.\n",
            "  \u001b[36mnew\u001b[39m                Creates a new Python project at <path>.\n",
            "  \u001b[36mpublish\u001b[39m            Publishes a package to a remote repository.\n",
            "  \u001b[36mremove\u001b[39m             Removes a package from the project dependencies.\n",
            "  \u001b[36mrun\u001b[39m                Runs a command in the appropriate environment.\n",
            "  \u001b[36msearch\u001b[39m             Searches for packages on remote repositories.\n",
            "  \u001b[36mshow\u001b[39m               Shows information about packages.\n",
            "  \u001b[36msync\u001b[39m               Update the project's environment according to the lockfile.\n",
            "  \u001b[36mupdate\u001b[39m             Update the dependencies as according to the \u001b[32mpyproject.toml\u001b[39m file.\n",
            "  \u001b[36mversion\u001b[39m            Shows the version of the project or bumps it when a valid bump rule is provided.\n",
            "\n",
            " \u001b[32mcache\u001b[39m\n",
            "  \u001b[36mcache clear\u001b[39m        Clears a Poetry cache by name.\n",
            "  \u001b[36mcache list\u001b[39m         List Poetry's caches.\n",
            "\n",
            " \u001b[32mdebug\u001b[39m\n",
            "  \u001b[36mdebug info\u001b[39m         Shows debug information.\n",
            "  \u001b[36mdebug resolve\u001b[39m      Debugs dependency resolution.\n",
            "  \u001b[36mdebug tags\u001b[39m         Shows compatible tags for your project's current active environment.\n",
            "\n",
            " \u001b[32menv\u001b[39m\n",
            "  \u001b[36menv activate\u001b[39m       Print the command to activate a virtual environment.\n",
            "  \u001b[36menv info\u001b[39m           Displays information about the current environment.\n",
            "  \u001b[36menv list\u001b[39m           Lists all virtualenvs associated with the current project.\n",
            "  \u001b[36menv remove\u001b[39m         Remove virtual environments associated with the project.\n",
            "  \u001b[36menv use\u001b[39m            Activates or creates a new virtualenv for the current project.\n",
            "\n",
            " \u001b[32mpython\u001b[39m\n",
            "  \u001b[36mpython install\u001b[39m     Install the specified Python version from the Python Standalone Builds project. (\u001b[33mexperimental feature\u001b[39m)\n",
            "  \u001b[36mpython list\u001b[39m        Shows Python versions available for this environment. (\u001b[33mexperimental feature\u001b[39m)\n",
            "  \u001b[36mpython remove\u001b[39m      Remove the specified Python version if managed by Poetry. (\u001b[33mexperimental feature\u001b[39m)\n",
            "\n",
            " \u001b[32mself\u001b[39m\n",
            "  \u001b[36mself add\u001b[39m           Add additional packages to Poetry's runtime environment.\n",
            "  \u001b[36mself install\u001b[39m       Install locked packages (incl. addons) required by this Poetry installation.\n",
            "  \u001b[36mself lock\u001b[39m          Lock the Poetry installation's system requirements.\n",
            "  \u001b[36mself remove\u001b[39m        Remove additional packages from Poetry's runtime environment.\n",
            "  \u001b[36mself show\u001b[39m          Show packages from Poetry's runtime environment.\n",
            "  \u001b[36mself show plugins\u001b[39m  Shows information about the currently installed plugins.\n",
            "  \u001b[36mself sync\u001b[39m          Sync Poetry's own environment according to the locked packages (incl. addons) required by this Poetry installation.\n",
            "  \u001b[36mself update\u001b[39m        Updates Poetry to the latest version.\n",
            "\n",
            " \u001b[32msource\u001b[39m\n",
            "  \u001b[36msource add\u001b[39m         Add source configuration for project.\n",
            "  \u001b[36msource remove\u001b[39m      Remove source configured for the project.\n",
            "  \u001b[36msource show\u001b[39m        Show information about sources configured for the project.\n"
          ]
        }
      ]
    },
    {
      "cell_type": "code",
      "source": [
        "!poetry install"
      ],
      "metadata": {
        "colab": {
          "base_uri": "https://localhost:8080/"
        },
        "id": "X5m7IdG1klyc",
        "outputId": "bcb189fd-b901-4e56-fd9e-febbe5b8cb49"
      },
      "execution_count": 8,
      "outputs": [
        {
          "output_type": "stream",
          "name": "stdout",
          "text": [
            "\n",
            "\u001b[31;1mPoetry could not find a pyproject.toml file in /content or its parents\u001b[39;22m\n"
          ]
        }
      ]
    },
    {
      "cell_type": "code",
      "source": [
        "!poetry install --all-extras"
      ],
      "metadata": {
        "id": "Rp-CxS_Ykqqs"
      },
      "execution_count": null,
      "outputs": []
    },
    {
      "cell_type": "code",
      "source": [
        "!poetry add docling"
      ],
      "metadata": {
        "colab": {
          "base_uri": "https://localhost:8080/"
        },
        "id": "Jqk8lqEwlJ_F",
        "outputId": "e1c03b80-a74e-4254-d1ec-3a532938207e"
      },
      "execution_count": 9,
      "outputs": [
        {
          "output_type": "stream",
          "name": "stdout",
          "text": [
            "\n",
            "\u001b[31;1mPoetry could not find a pyproject.toml file in /content or its parents\u001b[39;22m\n"
          ]
        }
      ]
    },
    {
      "cell_type": "code",
      "source": [
        "!poetry build"
      ],
      "metadata": {
        "colab": {
          "base_uri": "https://localhost:8080/"
        },
        "id": "pa0utKA8lKa9",
        "outputId": "a6235950-313f-4cec-a996-3804bf193c81"
      },
      "execution_count": 10,
      "outputs": [
        {
          "output_type": "stream",
          "name": "stdout",
          "text": [
            "\n",
            "\u001b[31;1mPoetry could not find a pyproject.toml file in /content or its parents\u001b[39;22m\n"
          ]
        }
      ]
    },
    {
      "cell_type": "code",
      "source": [],
      "metadata": {
        "id": "6MVRIDKIlTKd"
      },
      "execution_count": null,
      "outputs": []
    },
    {
      "source": [
        "%%writefile pyproject.toml\n",
        "     [tool.poetry]\n",
        "     name = \"my-colab-project\"  # Your project name\n",
        "     version = \"0.1.0\"\n",
        "     description = \"\"\n",
        "     authors = [\"Your Name <your.email@example.com>\"]\n",
        "\n",
        "     [tool.poetry.dependencies]\n",
        "     python = \"^3.11\" # Or your preferred Python version\n",
        "\n",
        "     [build-system]\n",
        "     requires = [\"poetry-core>=1.0.0\"]\n",
        "     build-backend = \"poetry.core.masonry.api\""
      ],
      "cell_type": "code",
      "metadata": {
        "colab": {
          "base_uri": "https://localhost:8080/"
        },
        "id": "U9cAHJFWldyG",
        "outputId": "5b6f4f1e-9efc-4f5b-f2fe-65f37f00a43b"
      },
      "execution_count": 11,
      "outputs": [
        {
          "output_type": "stream",
          "name": "stdout",
          "text": [
            "Writing pyproject.toml\n"
          ]
        }
      ]
    },
    {
      "source": [
        "!poetry install --all-extras -C /content/pyproject.toml"
      ],
      "cell_type": "code",
      "metadata": {
        "colab": {
          "base_uri": "https://localhost:8080/"
        },
        "id": "3oRuJ08elg6d",
        "outputId": "c9b00ca0-e8fb-4f83-c1e6-f534e23dbe77"
      },
      "execution_count": 13,
      "outputs": [
        {
          "output_type": "stream",
          "name": "stdout",
          "text": [
            "\n",
            "\u001b[31;1mSpecified path '/content/pyproject.toml' is not a valid directory.\u001b[39;22m\n"
          ]
        }
      ]
    },
    {
      "cell_type": "code",
      "source": [
        "!poetry install Tesseract"
      ],
      "metadata": {
        "colab": {
          "base_uri": "https://localhost:8080/"
        },
        "id": "v17l3ByKlnWZ",
        "outputId": "1c5ed311-71a3-4cf6-9afc-59274fab62d3"
      },
      "execution_count": 16,
      "outputs": [
        {
          "output_type": "stream",
          "name": "stdout",
          "text": [
            "\n",
            "\u001b[31;1mNo arguments expected for \"install\" command, got \"Tesseract\"\u001b[39;22m\n"
          ]
        }
      ]
    },
    {
      "cell_type": "code",
      "source": [
        "from docling.datamodel.base_models import ConversionStatus, PipelineOptions\n",
        "from docling.datamodel.pipeline_options import PipelineOptions, EasyOcrOptions, TesseractOcrOptions\n",
        "from docling.document_converter import DocumentConverter\n",
        "\n",
        "pipeline_options = PipelineOptions()\n",
        "pipeline_options.do_ocr = True\n",
        "pipeline_options.ocr_options = TesseractOcrOptions()  # Use Tesseract\n",
        "\n",
        "doc_converter = DocumentConverter(\n",
        "    pipeline_options=pipeline_options,\n",
        ")"
      ],
      "metadata": {
        "colab": {
          "base_uri": "https://localhost:8080/",
          "height": 419
        },
        "id": "v6OLid-QmOO9",
        "outputId": "dde8bb5f-b944-4cb9-bea6-3537f29ee841"
      },
      "execution_count": 17,
      "outputs": [
        {
          "output_type": "error",
          "ename": "ImportError",
          "evalue": "cannot import name 'PipelineOptions' from 'docling.datamodel.base_models' (/usr/local/lib/python3.11/dist-packages/docling/datamodel/base_models.py)",
          "traceback": [
            "\u001b[0;31m---------------------------------------------------------------------------\u001b[0m",
            "\u001b[0;31mImportError\u001b[0m                               Traceback (most recent call last)",
            "\u001b[0;32m<ipython-input-17-2fbd8082f1da>\u001b[0m in \u001b[0;36m<cell line: 0>\u001b[0;34m()\u001b[0m\n\u001b[0;32m----> 1\u001b[0;31m \u001b[0;32mfrom\u001b[0m \u001b[0mdocling\u001b[0m\u001b[0;34m.\u001b[0m\u001b[0mdatamodel\u001b[0m\u001b[0;34m.\u001b[0m\u001b[0mbase_models\u001b[0m \u001b[0;32mimport\u001b[0m \u001b[0mConversionStatus\u001b[0m\u001b[0;34m,\u001b[0m \u001b[0mPipelineOptions\u001b[0m\u001b[0;34m\u001b[0m\u001b[0;34m\u001b[0m\u001b[0m\n\u001b[0m\u001b[1;32m      2\u001b[0m \u001b[0;32mfrom\u001b[0m \u001b[0mdocling\u001b[0m\u001b[0;34m.\u001b[0m\u001b[0mdatamodel\u001b[0m\u001b[0;34m.\u001b[0m\u001b[0mpipeline_options\u001b[0m \u001b[0;32mimport\u001b[0m \u001b[0mPipelineOptions\u001b[0m\u001b[0;34m,\u001b[0m \u001b[0mEasyOcrOptions\u001b[0m\u001b[0;34m,\u001b[0m \u001b[0mTesseractOcrOptions\u001b[0m\u001b[0;34m\u001b[0m\u001b[0;34m\u001b[0m\u001b[0m\n\u001b[1;32m      3\u001b[0m \u001b[0;32mfrom\u001b[0m \u001b[0mdocling\u001b[0m\u001b[0;34m.\u001b[0m\u001b[0mdocument_converter\u001b[0m \u001b[0;32mimport\u001b[0m \u001b[0mDocumentConverter\u001b[0m\u001b[0;34m\u001b[0m\u001b[0;34m\u001b[0m\u001b[0m\n\u001b[1;32m      4\u001b[0m \u001b[0;34m\u001b[0m\u001b[0m\n\u001b[1;32m      5\u001b[0m \u001b[0mpipeline_options\u001b[0m \u001b[0;34m=\u001b[0m \u001b[0mPipelineOptions\u001b[0m\u001b[0;34m(\u001b[0m\u001b[0;34m)\u001b[0m\u001b[0;34m\u001b[0m\u001b[0;34m\u001b[0m\u001b[0m\n",
            "\u001b[0;31mImportError\u001b[0m: cannot import name 'PipelineOptions' from 'docling.datamodel.base_models' (/usr/local/lib/python3.11/dist-packages/docling/datamodel/base_models.py)",
            "",
            "\u001b[0;31m---------------------------------------------------------------------------\u001b[0;32m\nNOTE: If your import is failing due to a missing package, you can\nmanually install dependencies using either !pip or !apt.\n\nTo view examples of installing some common dependencies, click the\n\"Open Examples\" button below.\n\u001b[0;31m---------------------------------------------------------------------------\u001b[0m\n"
          ],
          "errorDetails": {
            "actions": [
              {
                "action": "open_url",
                "actionText": "Open Examples",
                "url": "/notebooks/snippets/importing_libraries.ipynb"
              }
            ]
          }
        }
      ]
    },
    {
      "cell_type": "code",
      "source": [
        "!apt-get install tesseract-ocr tesseract-ocr-eng libtesseract-dev libleptonica-dev pkg-config\n",
        "TESSDATA_PREFIX=$(dpkg -L tesseract-ocr-eng | grep tessdata$)\n",
        "echo \"Set TESSDATA_PREFIX=${TESSDATA_PREFIX}\""
      ],
      "metadata": {
        "colab": {
          "base_uri": "https://localhost:8080/",
          "height": 106
        },
        "id": "8RkUgf19mcK9",
        "outputId": "3e64a8e7-e8eb-4672-cb58-f98b7861959e"
      },
      "execution_count": 18,
      "outputs": [
        {
          "output_type": "error",
          "ename": "SyntaxError",
          "evalue": "invalid syntax (<ipython-input-18-ed2c12ea606e>, line 2)",
          "traceback": [
            "\u001b[0;36m  File \u001b[0;32m\"<ipython-input-18-ed2c12ea606e>\"\u001b[0;36m, line \u001b[0;32m2\u001b[0m\n\u001b[0;31m    TESSDATA_PREFIX=$(dpkg -L tesseract-ocr-eng | grep tessdata$)\u001b[0m\n\u001b[0m                    ^\u001b[0m\n\u001b[0;31mSyntaxError\u001b[0m\u001b[0;31m:\u001b[0m invalid syntax\n"
          ]
        }
      ]
    },
    {
      "cell_type": "code",
      "source": [
        "!pip install --no-binary :all: tesserocr"
      ],
      "metadata": {
        "colab": {
          "base_uri": "https://localhost:8080/"
        },
        "id": "1K-quz3-mmvF",
        "outputId": "8704eb7b-0581-421d-cdf6-f4a1f4dc4c8c"
      },
      "execution_count": 19,
      "outputs": [
        {
          "output_type": "stream",
          "name": "stdout",
          "text": [
            "Collecting tesserocr\n",
            "  Downloading tesserocr-2.8.0.tar.gz (72 kB)\n",
            "\u001b[?25l     \u001b[90m━━━━━━━━━━━━━━━━━━━━━━━━━━━━━━━━━━━━━━━━\u001b[0m \u001b[32m0.0/72.6 kB\u001b[0m \u001b[31m?\u001b[0m eta \u001b[36m-:--:--\u001b[0m\r\u001b[2K     \u001b[90m━━━━━━━━━━━━━━━━━━━━━━━━━━━━━━━━━━━━━━━━\u001b[0m \u001b[32m72.6/72.6 kB\u001b[0m \u001b[31m2.7 MB/s\u001b[0m eta \u001b[36m0:00:00\u001b[0m\n",
            "\u001b[?25h  Installing build dependencies ... \u001b[?25l\u001b[?25hdone\n",
            "  Getting requirements to build wheel ... \u001b[?25l\u001b[?25hdone\n",
            "  Installing backend dependencies ... \u001b[?25l\u001b[?25hdone\n",
            "  Preparing metadata (pyproject.toml) ... \u001b[?25l\u001b[?25hdone\n",
            "Building wheels for collected packages: tesserocr\n",
            "  \u001b[1;31merror\u001b[0m: \u001b[1msubprocess-exited-with-error\u001b[0m\n",
            "  \n",
            "  \u001b[31m×\u001b[0m \u001b[32mBuilding wheel for tesserocr \u001b[0m\u001b[1;32m(\u001b[0m\u001b[32mpyproject.toml\u001b[0m\u001b[1;32m)\u001b[0m did not run successfully.\n",
            "  \u001b[31m│\u001b[0m exit code: \u001b[1;36m1\u001b[0m\n",
            "  \u001b[31m╰─>\u001b[0m See above for output.\n",
            "  \n",
            "  \u001b[1;35mnote\u001b[0m: This error originates from a subprocess, and is likely not a problem with pip.\n",
            "  Building wheel for tesserocr (pyproject.toml) ... \u001b[?25l\u001b[?25herror\n",
            "\u001b[31m  ERROR: Failed building wheel for tesserocr\u001b[0m\u001b[31m\n",
            "\u001b[0mFailed to build tesserocr\n",
            "\u001b[31mERROR: ERROR: Failed to build installable wheels for some pyproject.toml based projects (tesserocr)\u001b[0m\u001b[31m\n",
            "\u001b[0m"
          ]
        }
      ]
    },
    {
      "cell_type": "code",
      "source": [
        "!docling-tools models download"
      ],
      "metadata": {
        "colab": {
          "base_uri": "https://localhost:8080/"
        },
        "id": "xgQBKVOrmryG",
        "outputId": "fe6eb9ed-df24-4e74-959a-aac0ce94079e"
      },
      "execution_count": 20,
      "outputs": [
        {
          "output_type": "stream",
          "name": "stdout",
          "text": [
            "2025-05-10 23:56:24.255617: E external/local_xla/xla/stream_executor/cuda/cuda_fft.cc:477] Unable to register cuFFT factory: Attempting to register factory for plugin cuFFT when one has already been registered\n",
            "WARNING: All log messages before absl::InitializeLog() is called are written to STDERR\n",
            "E0000 00:00:1746921384.674892   10430 cuda_dnn.cc:8310] Unable to register cuDNN factory: Attempting to register factory for plugin cuDNN when one has already been registered\n",
            "E0000 00:00:1746921384.795213   10430 cuda_blas.cc:1418] Unable to register cuBLAS factory: Attempting to register factory for plugin cuBLAS when one has already been registered\n",
            "2025-05-10 23:56:25.698649: I tensorflow/core/platform/cpu_feature_guard.cc:210] This TensorFlow binary is optimized to use available CPU instructions in performance-critical operations.\n",
            "To enable the following instructions: AVX2 FMA, in other operations, rebuild TensorFlow with the appropriate compiler flags.\n",
            "\u001b[34mDownloading layout model\u001b[0m\u001b[33m...\u001b[0m                               \u001b]8;id=115666;file:///usr/local/lib/python3.11/dist-packages/docling/utils/model_downloader.py\u001b\\\u001b[2mmodel_downloader.py\u001b[0m\u001b]8;;\u001b\\\u001b[2m:\u001b[0m\u001b]8;id=276897;file:///usr/local/lib/python3.11/dist-packages/docling/utils/model_downloader.py#40\u001b\\\u001b[2m40\u001b[0m\u001b]8;;\u001b\\\n",
            "Fetching 11 files:   0% 0/11 [00:00<?, ?it/s]\n",
            "model.safetensors:   0% 0.00/172M [00:00<?, ?B/s]\u001b[A\n",
            "\n",
            "tableformer_accurate.safetensors:   0% 0.00/213M [00:00<?, ?B/s]\u001b[A\u001b[A\n",
            "\n",
            "\n",
            "config.json: 100% 2.86k/2.86k [00:00<00:00, 11.3MB/s]\n",
            "\n",
            "\n",
            "\n",
            "config.json: 100% 41.0/41.0 [00:00<00:00, 155kB/s]\n",
            "\n",
            "\n",
            "\n",
            "preprocessor_config.json: 100% 444/444 [00:00<00:00, 1.54MB/s]\n",
            "\n",
            "\n",
            "\n",
            ".gitattributes: 100% 1.91k/1.91k [00:00<00:00, 7.99MB/s]\n",
            "\n",
            "\n",
            "\n",
            ".gitignore: 100% 5.18k/5.18k [00:00<00:00, 8.93MB/s]\n",
            "Fetching 11 files:   9% 1/11 [00:00<00:02,  4.45it/s]\n",
            "\n",
            "\n",
            "README.md: 100% 3.49k/3.49k [00:00<00:00, 8.13MB/s]\n",
            "\n",
            "\n",
            "tableformer_accurate.safetensors:   5% 10.5M/213M [00:00<00:02, 68.2MB/s]\u001b[A\u001b[A\n",
            "\n",
            "\n",
            "tableformer_fast.safetensors:   0% 0.00/145M [00:00<?, ?B/s]\u001b[A\u001b[A\u001b[A\n",
            "model.safetensors:   6% 10.5M/172M [00:00<00:03, 53.3MB/s]\u001b[A\n",
            "\n",
            "\n",
            "\n",
            "tm_config.json: 100% 7.06k/7.06k [00:00<00:00, 14.6MB/s]\n",
            "\n",
            "\n",
            "\n",
            "\n",
            "tm_config.json: 100% 7.06k/7.06k [00:00<00:00, 17.2MB/s]\n",
            "\n",
            "\n",
            "tableformer_accurate.safetensors:  10% 21.0M/213M [00:00<00:02, 73.6MB/s]\u001b[A\u001b[A\n",
            "model.safetensors:  12% 21.0M/172M [00:00<00:02, 60.6MB/s]\u001b[A\n",
            "\n",
            "tableformer_accurate.safetensors:  15% 31.5M/213M [00:00<00:02, 76.2MB/s]\u001b[A\u001b[A\n",
            "model.safetensors:  18% 31.5M/172M [00:00<00:02, 55.4MB/s]\u001b[A\n",
            "\n",
            "\n",
            "tableformer_fast.safetensors:   7% 10.5M/145M [00:00<00:05, 24.3MB/s]\u001b[A\u001b[A\u001b[A\n",
            "\n",
            "tableformer_accurate.safetensors:  25% 52.4M/213M [00:00<00:01, 92.0MB/s]\u001b[A\u001b[A\n",
            "model.safetensors:  24% 41.9M/172M [00:00<00:02, 50.0MB/s]\u001b[A\n",
            "\n",
            "\n",
            "tableformer_fast.safetensors:  14% 21.0M/145M [00:00<00:03, 33.9MB/s]\u001b[A\u001b[A\u001b[A\n",
            "\n",
            "tableformer_accurate.safetensors:  34% 73.4M/213M [00:00<00:01, 86.6MB/s]\u001b[A\u001b[A\n",
            "\n",
            "\n",
            "tableformer_fast.safetensors:  22% 31.5M/145M [00:00<00:02, 44.3MB/s]\u001b[A\u001b[A\u001b[A\n",
            "\n",
            "tableformer_accurate.safetensors:  39% 83.9M/213M [00:01<00:01, 79.1MB/s]\u001b[A\u001b[A\n",
            "model.safetensors:  31% 52.4M/172M [00:01<00:02, 44.6MB/s]\u001b[A\n",
            "\n",
            "\n",
            "tableformer_fast.safetensors:  29% 41.9M/145M [00:00<00:02, 47.9MB/s]\u001b[A\u001b[A\u001b[A\n",
            "\n",
            "tableformer_accurate.safetensors:  44% 94.4M/213M [00:01<00:01, 77.7MB/s]\u001b[A\u001b[A\n",
            "model.safetensors:  37% 62.9M/172M [00:01<00:02, 45.5MB/s]\u001b[A\n",
            "\n",
            "\n",
            "tableformer_fast.safetensors:  36% 52.4M/145M [00:01<00:01, 49.7MB/s]\u001b[A\u001b[A\u001b[A\n",
            "\n",
            "tableformer_accurate.safetensors:  49% 105M/213M [00:01<00:01, 69.3MB/s] \u001b[A\u001b[A\n",
            "model.safetensors:  43% 73.4M/172M [00:01<00:01, 52.8MB/s]\u001b[A\n",
            "\n",
            "\n",
            "tableformer_fast.safetensors:  43% 62.9M/145M [00:01<00:01, 52.3MB/s]\u001b[A\u001b[A\u001b[A\n",
            "\n",
            "tableformer_accurate.safetensors:  54% 115M/213M [00:01<00:01, 67.6MB/s]\u001b[A\u001b[A\n",
            "model.safetensors:  49% 83.9M/172M [00:01<00:01, 50.6MB/s]\u001b[A\n",
            "\n",
            "tableformer_accurate.safetensors:  59% 126M/213M [00:01<00:01, 72.6MB/s]\u001b[A\u001b[A\n",
            "\n",
            "\n",
            "tableformer_fast.safetensors:  58% 83.9M/145M [00:01<00:00, 69.4MB/s]\u001b[A\u001b[A\u001b[A\n",
            "\n",
            "tableformer_accurate.safetensors:  64% 136M/213M [00:01<00:01, 70.1MB/s]\u001b[A\u001b[A\n",
            "model.safetensors:  55% 94.4M/172M [00:01<00:01, 52.7MB/s]\u001b[A\n",
            "\n",
            "\n",
            "tableformer_fast.safetensors:  65% 94.4M/145M [00:01<00:00, 61.5MB/s]\u001b[A\u001b[A\u001b[A\n",
            "\n",
            "tableformer_accurate.safetensors:  69% 147M/213M [00:02<00:01, 63.1MB/s]\u001b[A\u001b[A\n",
            "\n",
            "tableformer_accurate.safetensors:  74% 157M/213M [00:02<00:00, 70.9MB/s]\u001b[A\u001b[A\n",
            "\n",
            "\n",
            "tableformer_fast.safetensors:  79% 115M/145M [00:02<00:00, 71.1MB/s] \u001b[A\u001b[A\u001b[A\n",
            "\n",
            "tableformer_accurate.safetensors:  79% 168M/213M [00:02<00:00, 74.5MB/s]\u001b[A\u001b[A\n",
            "\n",
            "tableformer_accurate.safetensors:  84% 178M/213M [00:02<00:00, 78.6MB/s]\u001b[A\u001b[A\n",
            "\n",
            "\n",
            "tableformer_fast.safetensors:  94% 136M/145M [00:02<00:00, 79.8MB/s]\u001b[A\u001b[A\u001b[A\n",
            "\n",
            "tableformer_accurate.safetensors:  89% 189M/213M [00:02<00:00, 83.9MB/s]\u001b[A\u001b[A\n",
            "model.safetensors:  61% 105M/172M [00:02<00:02, 30.8MB/s] \u001b[A\n",
            "\n",
            "\n",
            "tableformer_fast.safetensors: 100% 145M/145M [00:02<00:00, 79.9MB/s]\u001b[A\u001b[A\u001b[A\n",
            "\n",
            "tableformer_fast.safetensors: 100% 145M/145M [00:02<00:00, 50.2MB/s]\n",
            "tableformer_accurate.safetensors: 100% 213M/213M [00:03<00:00, 67.1MB/s]\n",
            "\n",
            "model.safetensors:  67% 115M/172M [00:03<00:02, 23.3MB/s]\u001b[A\n",
            "model.safetensors:  73% 126M/172M [00:03<00:01, 30.4MB/s]\u001b[A\n",
            "model.safetensors:  79% 136M/172M [00:03<00:00, 35.6MB/s]\u001b[A\n",
            "model.safetensors:  86% 147M/172M [00:03<00:00, 29.2MB/s]\u001b[A\n",
            "model.safetensors:  92% 157M/172M [00:04<00:00, 35.5MB/s]\u001b[A\n",
            "model.safetensors: 100% 172M/172M [00:04<00:00, 39.2MB/s]\n",
            "Fetching 11 files: 100% 11/11 [00:04<00:00,  2.40it/s]\n",
            "\u001b[34mDownloading tableformer model\u001b[0m\u001b[33m...\u001b[0m                          \u001b]8;id=176602;file:///usr/local/lib/python3.11/dist-packages/docling/utils/model_downloader.py\u001b\\\u001b[2mmodel_downloader.py\u001b[0m\u001b]8;;\u001b\\\u001b[2m:\u001b[0m\u001b]8;id=516441;file:///usr/local/lib/python3.11/dist-packages/docling/utils/model_downloader.py#48\u001b\\\u001b[2m48\u001b[0m\u001b]8;;\u001b\\\n",
            "Fetching 11 files:  18% 2/11 [00:00<00:00, 18.57it/s]\n",
            "tableformer_accurate.safetensors:   0% 0.00/213M [00:00<?, ?B/s]\u001b[A\n",
            "tableformer_accurate.safetensors:  10% 21.0M/213M [00:00<00:01, 160MB/s]\u001b[A\n",
            "tableformer_accurate.safetensors:  25% 52.4M/213M [00:00<00:00, 227MB/s]\u001b[A\n",
            "tableformer_accurate.safetensors:  39% 83.9M/213M [00:00<00:00, 251MB/s]\u001b[A\n",
            "tableformer_accurate.safetensors:  54% 115M/213M [00:00<00:00, 217MB/s] \u001b[A\n",
            "tableformer_accurate.safetensors:  69% 147M/213M [00:00<00:00, 200MB/s]\u001b[A\n",
            "tableformer_accurate.safetensors:  79% 168M/213M [00:00<00:00, 191MB/s]\u001b[A\n",
            "tableformer_accurate.safetensors:  89% 189M/213M [00:00<00:00, 189MB/s]\u001b[A\n",
            "tableformer_accurate.safetensors: 100% 213M/213M [00:01<00:00, 197MB/s]\n",
            "Fetching 11 files: 100% 11/11 [00:01<00:00,  8.82it/s]\n",
            "\u001b[34mDownloading picture classifier model\u001b[0m\u001b[33m...\u001b[0m                   \u001b]8;id=600698;file:///usr/local/lib/python3.11/dist-packages/docling/utils/model_downloader.py\u001b\\\u001b[2mmodel_downloader.py\u001b[0m\u001b]8;;\u001b\\\u001b[2m:\u001b[0m\u001b]8;id=517278;file:///usr/local/lib/python3.11/dist-packages/docling/utils/model_downloader.py#56\u001b\\\u001b[2m56\u001b[0m\u001b]8;;\u001b\\\n",
            "Fetching 4 files:   0% 0/4 [00:00<?, ?it/s]\n",
            "README.md: 100% 1.11k/1.11k [00:00<00:00, 2.01MB/s]\n",
            "\n",
            "config.json: 100% 2.04k/2.04k [00:00<00:00, 12.8MB/s]\n",
            "\n",
            "model.safetensors:   0% 0.00/16.3M [00:00<?, ?B/s]\u001b[A\n",
            "\n",
            ".gitattributes: 100% 1.52k/1.52k [00:00<00:00, 7.17MB/s]\n",
            "Fetching 4 files:  25% 1/4 [00:00<00:00,  4.13it/s]\n",
            "model.safetensors: 100% 16.3M/16.3M [00:00<00:00, 76.8MB/s]\n",
            "Fetching 4 files: 100% 4/4 [00:00<00:00,  9.07it/s]\n",
            "\u001b[34mDownloading code formula model\u001b[0m\u001b[33m...\u001b[0m                         \u001b]8;id=598509;file:///usr/local/lib/python3.11/dist-packages/docling/utils/model_downloader.py\u001b\\\u001b[2mmodel_downloader.py\u001b[0m\u001b]8;;\u001b\\\u001b[2m:\u001b[0m\u001b]8;id=938609;file:///usr/local/lib/python3.11/dist-packages/docling/utils/model_downloader.py#64\u001b\\\u001b[2m64\u001b[0m\u001b]8;;\u001b\\\n",
            "Fetching 12 files:   0% 0/12 [00:00<?, ?it/s]\n",
            "model.safetensors:   0% 0.00/525M [00:00<?, ?B/s]\u001b[A\n",
            "\n",
            ".gitattributes: 100% 1.52k/1.52k [00:00<00:00, 6.87MB/s]\n",
            "Fetching 12 files:   8% 1/12 [00:00<00:01,  6.22it/s]\n",
            "\n",
            "preprocessor_config.json: 100% 186/186 [00:00<00:00, 540kB/s]\n",
            "\n",
            "\n",
            "merges.txt:   0% 0.00/456k [00:00<?, ?B/s]\u001b[A\u001b[A\n",
            "\n",
            "\n",
            "README.md: 100% 2.32k/2.32k [00:00<00:00, 8.10MB/s]\n",
            "\n",
            "\n",
            "\n",
            "added_tokens.json: 100% 12.3k/12.3k [00:00<00:00, 28.0MB/s]\n",
            "\n",
            "\n",
            "\n",
            "generation_config.json: 100% 132/132 [00:00<00:00, 555kB/s]\n",
            "\n",
            "model.safetensors:   2% 10.5M/525M [00:00<00:06, 77.3MB/s]\u001b[A\n",
            "\n",
            "\n",
            "config.json: 100% 996/996 [00:00<00:00, 4.89MB/s]\n",
            "merges.txt: 100% 456k/456k [00:00<00:00, 4.83MB/s]\n",
            "Fetching 12 files:  33% 4/12 [00:00<00:00, 14.86it/s]\n",
            "\n",
            "special_tokens_map.json: 100% 10.1k/10.1k [00:00<00:00, 26.2MB/s]\n",
            "\n",
            "\n",
            "tokenizer.json:   0% 0.00/3.66M [00:00<?, ?B/s]\u001b[A\u001b[A\n",
            "\n",
            "\n",
            "tokenizer_config.json:   0% 0.00/109k [00:00<?, ?B/s]\u001b[A\u001b[A\u001b[A\n",
            "\n",
            "\n",
            "\n",
            "vocab.json:   0% 0.00/798k [00:00<?, ?B/s]\u001b[A\u001b[A\u001b[A\u001b[A\n",
            "tokenizer_config.json: 100% 109k/109k [00:00<00:00, 8.19MB/s]\n",
            "\n",
            "\n",
            "\n",
            "\n",
            "vocab.json: 100% 798k/798k [00:00<00:00, 7.04MB/s]\u001b[A\u001b[A\u001b[A\u001b[A\n",
            "vocab.json: 100% 798k/798k [00:00<00:00, 5.69MB/s]\n",
            "\n",
            "\n",
            "tokenizer.json: 100% 3.66M/3.66M [00:00<00:00, 11.9MB/s]\n",
            "\n",
            "model.safetensors:   8% 41.9M/525M [00:00<00:06, 72.1MB/s]\u001b[A\n",
            "model.safetensors:  12% 62.9M/525M [00:00<00:05, 86.6MB/s]\u001b[A\n",
            "model.safetensors:  16% 83.9M/525M [00:00<00:04, 101MB/s] \u001b[A\n",
            "model.safetensors:  20% 105M/525M [00:01<00:03, 112MB/s] \u001b[A\n",
            "model.safetensors:  24% 126M/525M [00:01<00:03, 117MB/s]\u001b[A\n",
            "model.safetensors:  28% 147M/525M [00:03<00:15, 25.2MB/s]\u001b[A\n",
            "model.safetensors:  32% 168M/525M [00:03<00:10, 35.0MB/s]\u001b[A\n",
            "model.safetensors:  36% 189M/525M [00:03<00:07, 47.1MB/s]\u001b[A\n",
            "model.safetensors:  40% 210M/525M [00:03<00:05, 61.5MB/s]\u001b[A\n",
            "model.safetensors:  44% 231M/525M [00:03<00:03, 77.9MB/s]\u001b[A\n",
            "model.safetensors:  48% 252M/525M [00:03<00:02, 94.3MB/s]\u001b[A\n",
            "model.safetensors:  52% 273M/525M [00:04<00:02, 108MB/s] \u001b[A\n",
            "model.safetensors:  56% 294M/525M [00:04<00:01, 119MB/s]\u001b[A\n",
            "model.safetensors:  60% 315M/525M [00:04<00:01, 131MB/s]\u001b[A\n",
            "model.safetensors:  64% 336M/525M [00:04<00:01, 135MB/s]\u001b[A\n",
            "model.safetensors:  68% 357M/525M [00:04<00:01, 140MB/s]\u001b[A\n",
            "model.safetensors:  72% 377M/525M [00:04<00:00, 155MB/s]\u001b[A\n",
            "model.safetensors:  76% 398M/525M [00:04<00:00, 165MB/s]\u001b[A\n",
            "model.safetensors:  80% 419M/525M [00:04<00:00, 149MB/s]\u001b[A\n",
            "model.safetensors:  84% 440M/525M [00:05<00:00, 150MB/s]\u001b[A\n",
            "model.safetensors:  88% 461M/525M [00:05<00:00, 150MB/s]\u001b[A\n",
            "model.safetensors:  92% 482M/525M [00:05<00:00, 154MB/s]\u001b[A\n",
            "model.safetensors:  96% 503M/525M [00:05<00:00, 156MB/s]\u001b[A\n",
            "model.safetensors: 100% 525M/525M [00:06<00:00, 81.3MB/s]\n",
            "Fetching 12 files: 100% 12/12 [00:06<00:00,  1.81it/s]\n",
            "\u001b[34mDownloading easyocr models\u001b[0m\u001b[33m...\u001b[0m                             \u001b]8;id=172893;file:///usr/local/lib/python3.11/dist-packages/docling/utils/model_downloader.py\u001b\\\u001b[2mmodel_downloader.py\u001b[0m\u001b]8;;\u001b\\\u001b[2m:\u001b[0m\u001b]8;id=823271;file:///usr/local/lib/python3.11/dist-packages/docling/utils/model_downloader.py#90\u001b\\\u001b[2m90\u001b[0m\u001b]8;;\u001b\\\n",
            "100% 73.7M/73.7M [00:00<00:00, 124MB/s]\n",
            "100% 13.4M/13.4M [00:00<00:00, 110MB/s] \n",
            "100% 13.6M/13.6M [00:00<00:00, 92.4MB/s]\n",
            "\u001b[32m\n",
            "Models downloaded into: /root/.cache/docling/models.\u001b[0m\n",
            "\n",
            " Docling can now be configured for running offline using the local artifacts.\n",
            "\n",
            " Using the CLI: `docling --artifacts-\u001b[33mpath\u001b[0m=\u001b[35m/root/.cache/docling/\u001b[0m\u001b[95mmodels\u001b[0m FILE` \n",
            " Using Python: see the documentation at \n",
            "\u001b[1m<\u001b[0m\u001b[4;94mhttps:\u001b[0m\u001b[4;94m//docling-project.github.io/docling/usage\u001b[0m\u001b[1m>\u001b[0m.\n"
          ]
        }
      ]
    },
    {
      "cell_type": "code",
      "source": [],
      "metadata": {
        "id": "RkA0B3AomxiF"
      },
      "execution_count": null,
      "outputs": []
    },
    {
      "cell_type": "markdown",
      "source": [
        "https://docling-project.github.io/docling/usage/#model-prefetching-and-offline-usage"
      ],
      "metadata": {
        "id": "fqefyPyGm3mm"
      }
    },
    {
      "cell_type": "code",
      "source": [
        "--ocr   --ocr-engine easyocr   --ocr-lang en   --device auto"
      ],
      "metadata": {
        "id": "WPGRAIYuosR-"
      },
      "execution_count": null,
      "outputs": []
    },
    {
      "cell_type": "markdown",
      "source": [
        "شغال تحويل كتاب من صورة الى ماركدون"
      ],
      "metadata": {
        "id": "_CMTBr5Ds1-H"
      }
    },
    {
      "cell_type": "code",
      "source": [
        "!docling /content/z.pdf --from pdf --ocr   --ocr-engine easyocr   --ocr-lang ar   --device auto --to md --output /content"
      ],
      "metadata": {
        "colab": {
          "base_uri": "https://localhost:8080/"
        },
        "id": "ZIAbgxGxm4at",
        "outputId": "98a3e23e-ba7e-40d9-ab67-f1f9c10debaa"
      },
      "execution_count": 21,
      "outputs": [
        {
          "output_type": "stream",
          "name": "stdout",
          "text": [
            "2025-05-11 00:00:49.426645: E external/local_xla/xla/stream_executor/cuda/cuda_fft.cc:477] Unable to register cuFFT factory: Attempting to register factory for plugin cuFFT when one has already been registered\n",
            "WARNING: All log messages before absl::InitializeLog() is called are written to STDERR\n",
            "E0000 00:00:1746921649.461616   11622 cuda_dnn.cc:8310] Unable to register cuDNN factory: Attempting to register factory for plugin cuDNN when one has already been registered\n",
            "E0000 00:00:1746921649.469630   11622 cuda_blas.cc:1418] Unable to register cuBLAS factory: Attempting to register factory for plugin cuBLAS when one has already been registered\n",
            "2025-05-11 00:00:49.497522: I tensorflow/core/platform/cpu_feature_guard.cc:210] This TensorFlow binary is optimized to use available CPU instructions in performance-critical operations.\n",
            "To enable the following instructions: AVX2 FMA, in other operations, rebuild TensorFlow with the appropriate compiler flags.\n",
            "WARNING:easyocr.easyocr:Downloading detection model, please wait. This may take several minutes depending upon your network connection.\n",
            "WARNING:easyocr.easyocr:Downloading recognition model, please wait. This may take several minutes depending upon your network connection.\n"
          ]
        }
      ]
    },
    {
      "cell_type": "code",
      "source": [
        "!docling --help"
      ],
      "metadata": {
        "id": "uQYTJRnupM0-"
      },
      "execution_count": null,
      "outputs": []
    },
    {
      "cell_type": "markdown",
      "source": [
        "شغال عربى جيد"
      ],
      "metadata": {
        "id": "pVs_B_0Cy8qJ"
      }
    },
    {
      "cell_type": "code",
      "source": [
        "!docling /content/q.pdf --from pdf --ocr   --ocr-engine easyocr   --ocr-lang ar   --device auto --to md --output /content"
      ],
      "metadata": {
        "colab": {
          "base_uri": "https://localhost:8080/"
        },
        "id": "cyfWIi3Fs_pP",
        "outputId": "b94ea974-73e2-4be1-c499-146d6a1e36f8"
      },
      "execution_count": 22,
      "outputs": [
        {
          "output_type": "stream",
          "name": "stdout",
          "text": [
            "2025-05-11 00:17:43.531433: E external/local_xla/xla/stream_executor/cuda/cuda_fft.cc:477] Unable to register cuFFT factory: Attempting to register factory for plugin cuFFT when one has already been registered\n",
            "WARNING: All log messages before absl::InitializeLog() is called are written to STDERR\n",
            "E0000 00:00:1746922663.596729   15679 cuda_dnn.cc:8310] Unable to register cuDNN factory: Attempting to register factory for plugin cuDNN when one has already been registered\n",
            "E0000 00:00:1746922663.620557   15679 cuda_blas.cc:1418] Unable to register cuBLAS factory: Attempting to register factory for plugin cuBLAS when one has already been registered\n",
            "2025-05-11 00:17:43.678763: I tensorflow/core/platform/cpu_feature_guard.cc:210] This TensorFlow binary is optimized to use available CPU instructions in performance-critical operations.\n",
            "To enable the following instructions: AVX2 FMA, in other operations, rebuild TensorFlow with the appropriate compiler flags.\n"
          ]
        }
      ]
    },
    {
      "cell_type": "markdown",
      "source": [],
      "metadata": {
        "id": "kEvBMEsExQ3w"
      }
    },
    {
      "cell_type": "code",
      "source": [
        "from pathlib import Path\n",
        "\n",
        "from docling.datamodel.base_models import InputFormat\n",
        "from docling.datamodel.pipeline_options import (\n",
        "    PdfPipelineOptions,\n",
        "    TesseractCliOcrOptions,\n",
        ")\n",
        "from docling.document_converter import DocumentConverter, PdfFormatOption\n",
        "\n",
        "inputData = \"./data/input\"\n",
        "outputData = \"./data/output/\"\n",
        "\n",
        "ocr_options = TesseractCliOcrOptions(lang=[\"auto\"])\n",
        "pipeline_options = PdfPipelineOptions(\n",
        "        do_ocr=True, force_full_page_ocr=True, ocr_options=ocr_options\n",
        "    )\n",
        "converter = DocumentConverter(\n",
        "        format_options={\n",
        "            InputFormat.PDF: PdfFormatOption(\n",
        "                pipeline_options=pipeline_options,\n",
        "            )\n",
        "        }\n",
        "    )\n",
        "\n",
        "print(\"beginning data conversion...\")\n",
        "\n",
        "# ingest all pdfs in data\n",
        "input_path = Path(inputData)\n",
        "pathlist = input_path.rglob('*.pdf')\n",
        "for input_file in pathlist:\n",
        "    print(\"loading \" + input_file.name + \"...\")\n",
        "    doc = converter.convert(str(input_file)).document\n",
        "    md = doc.export_to_markdown()\n",
        "\n",
        "    outfileName = outputData + str(input_file.stem).strip() + \".md\"\n",
        "    print(\"written to \" + outfileName)\n",
        "    outfile = open(outfileName, \"x\")\n",
        "    outfile.write(md)\n",
        "    outfile.close()\n",
        "\n",
        "print(\"data conversion complete\")"
      ],
      "metadata": {
        "id": "FlVN_xxFvE3o"
      },
      "execution_count": null,
      "outputs": []
    }
  ]
}